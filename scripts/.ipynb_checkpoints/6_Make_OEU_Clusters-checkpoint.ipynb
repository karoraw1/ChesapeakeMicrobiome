{
 "cells": [
  {
   "cell_type": "code",
   "execution_count": 1,
   "metadata": {},
   "outputs": [],
   "source": [
    "library(MASS)\n",
    "library(pvclust)"
   ]
  },
  {
   "cell_type": "code",
   "execution_count": 4,
   "metadata": {},
   "outputs": [
    {
     "data": {
      "text/html": [
       "<ol class=list-inline>\n",
       "\t<li>236</li>\n",
       "\t<li>1432</li>\n",
       "</ol>\n"
      ],
      "text/latex": [
       "\\begin{enumerate*}\n",
       "\\item 236\n",
       "\\item 1432\n",
       "\\end{enumerate*}\n"
      ],
      "text/markdown": [
       "1. 236\n",
       "2. 1432\n",
       "\n",
       "\n"
      ],
      "text/plain": [
       "[1]  236 1432"
      ]
     },
     "metadata": {},
     "output_type": "display_data"
    }
   ],
   "source": [
    "data_dir = '/Volumes/KeithSSD/ChesapeakeMicrobiome/data'\n",
    "transect_data_fn = \"environmental_raw_data/Transformed_WQVars_Hab_and_aDiv.txt\"\n",
    "transect_data_f = paste(data_dir, transect_data_fn, sep=\"/\")\n",
    "tran_df <- read.delim(transect_data_f, row.names=1)\n",
    "\n",
    "otu_table_fn = 'otu_tables/final_rarefied_table.tsv'\n",
    "otu_table_f = paste(data_dir, otu_table_fn, sep=\"/\")\n",
    "tsv.data <- read.delim(otu_table_f, row.names=1)\n",
    "\n",
    "tsv.data = tsv.data[rownames(tran_df), ]\n",
    "tsv.data = tsv.data[which(rowSums(tsv.data) > 0), which(colSums(tsv.data) > 0)]\n",
    "tsv.data2 = (tsv.data + 0.1)/rowSums(tsv.data + 0.1)\n",
    "tsv.data3 = t(t(tsv.data2)/rowSums(t(tsv.data2)))\n",
    "\n",
    "dim(tsv.data3)"
   ]
  },
  {
   "cell_type": "code",
   "execution_count": 11,
   "metadata": {},
   "outputs": [
    {
     "data": {
      "text/html": [
       "<ol class=list-inline>\n",
       "\t<li>'cl_inst'</li>\n",
       "\t<li>'data_dir'</li>\n",
       "\t<li>'oeu_file_1'</li>\n",
       "\t<li>'oeu_file_2'</li>\n",
       "\t<li>'oeu_obj1'</li>\n",
       "\t<li>'oeu_obj2'</li>\n",
       "\t<li>'otu_table_f'</li>\n",
       "\t<li>'otu_table_fn'</li>\n",
       "\t<li>'tran_df'</li>\n",
       "\t<li>'transect_data_f'</li>\n",
       "\t<li>'transect_data_fn'</li>\n",
       "\t<li>'tsv.data'</li>\n",
       "\t<li>'tsv.data2'</li>\n",
       "\t<li>'tsv.data3'</li>\n",
       "</ol>\n"
      ],
      "text/latex": [
       "\\begin{enumerate*}\n",
       "\\item 'cl\\_inst'\n",
       "\\item 'data\\_dir'\n",
       "\\item 'oeu\\_file\\_1'\n",
       "\\item 'oeu\\_file\\_2'\n",
       "\\item 'oeu\\_obj1'\n",
       "\\item 'oeu\\_obj2'\n",
       "\\item 'otu\\_table\\_f'\n",
       "\\item 'otu\\_table\\_fn'\n",
       "\\item 'tran\\_df'\n",
       "\\item 'transect\\_data\\_f'\n",
       "\\item 'transect\\_data\\_fn'\n",
       "\\item 'tsv.data'\n",
       "\\item 'tsv.data2'\n",
       "\\item 'tsv.data3'\n",
       "\\end{enumerate*}\n"
      ],
      "text/markdown": [
       "1. 'cl_inst'\n",
       "2. 'data_dir'\n",
       "3. 'oeu_file_1'\n",
       "4. 'oeu_file_2'\n",
       "5. 'oeu_obj1'\n",
       "6. 'oeu_obj2'\n",
       "7. 'otu_table_f'\n",
       "8. 'otu_table_fn'\n",
       "9. 'tran_df'\n",
       "10. 'transect_data_f'\n",
       "11. 'transect_data_fn'\n",
       "12. 'tsv.data'\n",
       "13. 'tsv.data2'\n",
       "14. 'tsv.data3'\n",
       "\n",
       "\n"
      ],
      "text/plain": [
       " [1] \"cl_inst\"          \"data_dir\"         \"oeu_file_1\"       \"oeu_file_2\"      \n",
       " [5] \"oeu_obj1\"         \"oeu_obj2\"         \"otu_table_f\"      \"otu_table_fn\"    \n",
       " [9] \"tran_df\"          \"transect_data_f\"  \"transect_data_fn\" \"tsv.data\"        \n",
       "[13] \"tsv.data2\"        \"tsv.data3\"       "
      ]
     },
     "metadata": {},
     "output_type": "display_data"
    }
   ],
   "source": [
    "library(parallel)\n",
    "cl_inst <- makeCluster(4, type = \"PSOCK\")\n",
    "\n",
    "oeu_file_1 = \"/Volumes/KeithSSD/ChesapeakeMicrobiome/data/oeu_clusters/otuclusters2.RData\"\n",
    "oeu_file_2 = \"/Volumes/KeithSSD/ChesapeakeMicrobiome/data/oeu_clusters/otuclusters3.RData\"\n",
    "\n",
    "if (file.exists(oeu_file_1)) {\n",
    "    load(oeu_file_1)\n",
    "    oeu_obj1 = res.pv\n",
    "    rm(res.pv)\n",
    "} else {\n",
    "    res.pv <- pvclust(tsv.data3, method.hclust = \"complete\", method.dist = \"euclidean\", \n",
    "                  parallel=cl_inst, iseed = 1, nboot=1000, r=seq(.5,1.4,by=.15))\n",
    "    save(res.pv, file=oeu_file_1)\n",
    "}\n",
    "\n",
    "if (file.exists(oeu_file_2)) {\n",
    "    load(oeu_file_2)\n",
    "    oeu_obj2 = res.pv\n",
    "    rm(res.pv)\n",
    "} else {\n",
    "    res.pv <- pvclust(tsv.data3, method.hclust = \"ward.D2\", method.dist = \"euclidean\", \n",
    "                      parallel=cl_inst, iseed = 1, nboot=1000, r=seq(.5,1.4,by=.15))\n",
    "    save(res.pv, file=oeu_file_2)\n",
    "}\n",
    "\n",
    "stopCluster(cl_inst)\n",
    "ls()"
   ]
  },
  {
   "cell_type": "code",
   "execution_count": 16,
   "metadata": {},
   "outputs": [
    {
     "data": {
      "text/html": [
       "<ol class=list-inline>\n",
       "\t<li>'clusters'</li>\n",
       "\t<li>'edges'</li>\n",
       "</ol>\n"
      ],
      "text/latex": [
       "\\begin{enumerate*}\n",
       "\\item 'clusters'\n",
       "\\item 'edges'\n",
       "\\end{enumerate*}\n"
      ],
      "text/markdown": [
       "1. 'clusters'\n",
       "2. 'edges'\n",
       "\n",
       "\n"
      ],
      "text/plain": [
       "[1] \"clusters\" \"edges\"   "
      ]
     },
     "metadata": {},
     "output_type": "display_data"
    }
   ],
   "source": [
    "oeus1 = pvpick(oeu_obj1, alpha=0.95, pv=\"au\")\n",
    "oeus2 = pvpick(oeu_obj2, alpha=0.95, pv=\"au\")"
   ]
  },
  {
   "cell_type": "code",
   "execution_count": 39,
   "metadata": {},
   "outputs": [
    {
     "data": {
      "text/html": [
       "4.32631578947368"
      ],
      "text/latex": [
       "4.32631578947368"
      ],
      "text/markdown": [
       "4.32631578947368"
      ],
      "text/plain": [
       "[1] 4.326316"
      ]
     },
     "metadata": {},
     "output_type": "display_data"
    },
    {
     "name": "stdout",
     "output_type": "stream",
     "text": [
      "[1] \"1: 130\"\n",
      "[1] \"13: 6\"\n",
      "[1] \"19: 5\"\n",
      "[1] \"51: 4\"\n",
      "[1] \"57: 4\"\n",
      "[1] \"58: 5\"\n",
      "[1] \"59: 4\"\n",
      "[1] \"60: 5\"\n",
      "[1] \"63: 4\"\n",
      "[1] \"64: 6\"\n",
      "[1] \"72: 9\"\n",
      "[1] \"76: 7\"\n",
      "[1] \"77: 5\"\n",
      "[1] \"85: 5\"\n",
      "[1] \"95: 5\"\n",
      "[1] \"97: 4\"\n",
      "[1] \"99: 7\"\n",
      "[1] \"102: 4\"\n",
      "[1] \"104: 4\"\n",
      "[1] \"108: 4\"\n",
      "[1] \"113: 6\"\n",
      "[1] \"121: 4\"\n",
      "[1] \"126: 4\"\n",
      "[1] \"131: 5\"\n",
      "[1] \"132: 4\"\n",
      "[1] \"134: 4\"\n",
      "[1] \"136: 4\"\n",
      "[1] \"137: 4\"\n",
      "[1] \"139: 4\"\n",
      "[1] \"141: 5\"\n",
      "[1] \"142: 4\"\n",
      "[1] \"143: 4\"\n",
      "[1] \"146: 5\"\n",
      "[1] \"147: 5\"\n",
      "[1] \"148: 5\"\n",
      "[1] \"149: 4\"\n",
      "[1] \"150: 4\"\n",
      "[1] \"152: 4\"\n",
      "[1] \"153: 4\"\n",
      "[1] \"154: 6\"\n",
      "[1] \"155: 7\"\n",
      "[1] \"156: 4\"\n",
      "[1] \"157: 6\"\n",
      "[1] \"158: 6\"\n",
      "[1] \"159: 5\"\n",
      "[1] \"161: 5\"\n",
      "[1] \"163: 4\"\n",
      "[1] \"165: 6\"\n",
      "[1] \"166: 8\"\n",
      "[1] \"167: 10\"\n",
      "[1] \"168: 4\"\n",
      "[1] \"169: 7\"\n",
      "[1] \"170: 6\"\n",
      "[1] \"173: 6\"\n",
      "[1] \"174: 7\"\n",
      "[1] \"175: 7\"\n",
      "[1] \"177: 8\"\n",
      "[1] \"178: 8\"\n",
      "[1] \"179: 9\"\n",
      "[1] \"180: 9\"\n",
      "[1] \"182: 5\"\n",
      "[1] \"183: 9\"\n",
      "[1] \"184: 7\"\n",
      "[1] \"185: 7\"\n",
      "[1] \"186: 6\"\n",
      "[1] \"187: 17\"\n",
      "[1] \"188: 6\"\n",
      "[1] \"189: 8\"\n",
      "[1] \"190: 22\"\n"
     ]
    },
    {
     "data": {
      "text/html": [
       "4.00515463917526"
      ],
      "text/latex": [
       "4.00515463917526"
      ],
      "text/markdown": [
       "4.00515463917526"
      ],
      "text/plain": [
       "[1] 4.005155"
      ]
     },
     "metadata": {},
     "output_type": "display_data"
    },
    {
     "name": "stdout",
     "output_type": "stream",
     "text": [
      "[1] \"1: 130\"\n",
      "[1] \"15: 7\"\n",
      "[1] \"19: 6\"\n",
      "[1] \"39: 6\"\n",
      "[1] \"42: 8\"\n",
      "[1] \"44: 4\"\n",
      "[1] \"53: 4\"\n",
      "[1] \"55: 5\"\n",
      "[1] \"60: 5\"\n",
      "[1] \"63: 4\"\n",
      "[1] \"69: 4\"\n",
      "[1] \"70: 4\"\n",
      "[1] \"71: 6\"\n",
      "[1] \"73: 4\"\n",
      "[1] \"75: 4\"\n",
      "[1] \"76: 4\"\n",
      "[1] \"82: 4\"\n",
      "[1] \"88: 7\"\n",
      "[1] \"89: 5\"\n",
      "[1] \"91: 4\"\n",
      "[1] \"97: 4\"\n",
      "[1] \"109: 4\"\n",
      "[1] \"113: 6\"\n",
      "[1] \"118: 4\"\n",
      "[1] \"121: 4\"\n",
      "[1] \"122: 4\"\n",
      "[1] \"130: 5\"\n",
      "[1] \"134: 4\"\n",
      "[1] \"139: 5\"\n",
      "[1] \"143: 10\"\n",
      "[1] \"144: 4\"\n",
      "[1] \"147: 4\"\n",
      "[1] \"148: 4\"\n",
      "[1] \"149: 6\"\n",
      "[1] \"151: 5\"\n",
      "[1] \"154: 5\"\n",
      "[1] \"158: 7\"\n",
      "[1] \"159: 4\"\n",
      "[1] \"165: 5\"\n",
      "[1] \"166: 4\"\n",
      "[1] \"167: 5\"\n",
      "[1] \"168: 4\"\n",
      "[1] \"169: 4\"\n",
      "[1] \"171: 5\"\n",
      "[1] \"172: 6\"\n",
      "[1] \"173: 4\"\n",
      "[1] \"174: 9\"\n",
      "[1] \"175: 4\"\n",
      "[1] \"176: 4\"\n",
      "[1] \"179: 6\"\n",
      "[1] \"181: 6\"\n",
      "[1] \"182: 8\"\n",
      "[1] \"183: 9\"\n",
      "[1] \"185: 5\"\n",
      "[1] \"186: 7\"\n",
      "[1] \"187: 4\"\n",
      "[1] \"188: 5\"\n",
      "[1] \"190: 10\"\n",
      "[1] \"191: 9\"\n",
      "[1] \"192: 8\"\n",
      "[1] \"193: 14\"\n",
      "[1] \"194: 11\"\n"
     ]
    },
    {
     "data": {
      "text/html": [
       "<table>\n",
       "<caption>A data.frame: 6 × 2</caption>\n",
       "<thead>\n",
       "\t<tr><th></th><th scope=col>ward_clusters</th><th scope=col>complete_clusters</th></tr>\n",
       "\t<tr><th></th><th scope=col>&lt;int&gt;</th><th scope=col>&lt;int&gt;</th></tr>\n",
       "</thead>\n",
       "<tbody>\n",
       "\t<tr><th scope=row>OTU1</th><td>64</td><td>71</td></tr>\n",
       "\t<tr><th scope=row>OTU2</th><td>NA</td><td>NA</td></tr>\n",
       "\t<tr><th scope=row>OTU3</th><td>72</td><td>42</td></tr>\n",
       "\t<tr><th scope=row>OTU4</th><td> 7</td><td> 9</td></tr>\n",
       "\t<tr><th scope=row>OTU5</th><td>NA</td><td>39</td></tr>\n",
       "\t<tr><th scope=row>OTU7</th><td>60</td><td>NA</td></tr>\n",
       "</tbody>\n",
       "</table>\n"
      ],
      "text/latex": [
       "A data.frame: 6 × 2\n",
       "\\begin{tabular}{r|ll}\n",
       "  & ward\\_clusters & complete\\_clusters\\\\\n",
       "  & <int> & <int>\\\\\n",
       "\\hline\n",
       "\tOTU1 & 64 & 71\\\\\n",
       "\tOTU2 & NA & NA\\\\\n",
       "\tOTU3 & 72 & 42\\\\\n",
       "\tOTU4 &  7 &  9\\\\\n",
       "\tOTU5 & NA & 39\\\\\n",
       "\tOTU7 & 60 & NA\\\\\n",
       "\\end{tabular}\n"
      ],
      "text/markdown": [
       "\n",
       "A data.frame: 6 × 2\n",
       "\n",
       "| <!--/--> | ward_clusters &lt;int&gt; | complete_clusters &lt;int&gt; |\n",
       "|---|---|---|\n",
       "| OTU1 | 64 | 71 |\n",
       "| OTU2 | NA | NA |\n",
       "| OTU3 | 72 | 42 |\n",
       "| OTU4 |  7 |  9 |\n",
       "| OTU5 | NA | 39 |\n",
       "| OTU7 | 60 | NA |\n",
       "\n"
      ],
      "text/plain": [
       "     ward_clusters complete_clusters\n",
       "OTU1 64            71               \n",
       "OTU2 NA            NA               \n",
       "OTU3 72            42               \n",
       "OTU4  7             9               \n",
       "OTU5 NA            39               \n",
       "OTU7 60            NA               "
      ]
     },
     "metadata": {},
     "output_type": "display_data"
    }
   ],
   "source": [
    "cluster_assignments = data.frame('ward_clusters'=rep(NA, dim(tsv.data3)[2]), \n",
    "                                 'complete_clusters'=rep(NA, dim(tsv.data3)[2]), \n",
    "                                 row.names=colnames(tsv.data3))\n",
    "\n",
    "mean(unlist(lapply(oeus2$clusters, length)))\n",
    "for (cln in 1:length(oeus2$clusters)){\n",
    "    cln_membs = oeus2$clusters[[cln]]\n",
    "    idx_cln_membs = which(rownames(cluster_assignments) %in% cln_membs)\n",
    "    cluster_assignments[idx_cln_membs, 'ward_clusters'] = cln\n",
    "    if (length(cln_membs) > 3){\n",
    "        print(paste(c(cln, length(cln_membs)), collapse=\": \"))\n",
    "    }\n",
    "}\n",
    "\n",
    "mean(unlist(lapply(oeus1$clusters, length)))\n",
    "for (cln in 1:length(oeus1$clusters)){\n",
    "    cln_membs = oeus1$clusters[[cln]]\n",
    "    idx_cln_membs = which(rownames(cluster_assignments) %in% cln_membs)\n",
    "    cluster_assignments[idx_cln_membs, 'complete_clusters'] = cln\n",
    "    if (length(cln_membs) > 3){\n",
    "        print(paste(c(cln, length(cln_membs)), collapse=\": \"))\n",
    "    }\n",
    "}\n",
    "\n",
    "write.table(cluster_assignments, file='../data/oeu_clusters/cluster_assignments.txt', sep=\"\\t\")\n",
    "head(cluster_assignments)"
   ]
  }
 ],
 "metadata": {
  "kernelspec": {
   "display_name": "R",
   "language": "R",
   "name": "ir"
  },
  "language_info": {
   "codemirror_mode": "r",
   "file_extension": ".r",
   "mimetype": "text/x-r-source",
   "name": "R",
   "pygments_lexer": "r",
   "version": "3.5.1"
  }
 },
 "nbformat": 4,
 "nbformat_minor": 2
}
