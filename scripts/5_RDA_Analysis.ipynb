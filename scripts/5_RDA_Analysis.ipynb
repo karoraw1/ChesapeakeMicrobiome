{
 "cells": [
  {
   "cell_type": "markdown",
   "metadata": {},
   "source": [
    "Load the environmental data from various places.\n",
    "Remove missing data and convert variables to the appropriate types"
   ]
  },
  {
   "cell_type": "code",
   "execution_count": 1,
   "metadata": {
    "scrolled": false
   },
   "outputs": [
    {
     "data": {
      "text/html": [
       "<style>\n",
       ".dl-inline {width: auto; margin:0; padding: 0}\n",
       ".dl-inline>dt, .dl-inline>dd {float: none; width: auto; display: inline-block}\n",
       ".dl-inline>dt::after {content: \":\\0020\"; padding-right: .5ex}\n",
       ".dl-inline>dt:not(:first-of-type) {padding-left: .5ex}\n",
       "</style><dl class=dl-inline><dt>PHEO</dt><dd>'numeric'</dd><dt>TN</dt><dd>'numeric'</dd><dt>TP</dt><dd>'numeric'</dd><dt>CHLA</dt><dd>'numeric'</dd><dt>DOP</dt><dd>'numeric'</dd><dt>DON</dt><dd>'numeric'</dd><dt>NH4F</dt><dd>'numeric'</dd><dt>NO2F</dt><dd>'numeric'</dd><dt>NO3F</dt><dd>'numeric'</dd><dt>PC</dt><dd>'numeric'</dd><dt>PO4F</dt><dd>'numeric'</dd><dt>DO</dt><dd>'numeric'</dd><dt>PH</dt><dd>'numeric'</dd><dt>SALINITY</dt><dd>'numeric'</dd><dt>WTEMP</dt><dd>'numeric'</dd><dt>Latitude</dt><dd>'numeric'</dd><dt>WIND_RATIO_BWI.15</dt><dd>'numeric'</dd><dt>WIND_RATIO_BWI.30</dt><dd>'numeric'</dd><dt>WIND_RATIO_BWI.60</dt><dd>'numeric'</dd><dt>PRECIP24HR_BWI.15</dt><dd>'numeric'</dd><dt>PRECIP24HR_BWI.30</dt><dd>'numeric'</dd><dt>PRECIP24HR_BWI.60</dt><dd>'numeric'</dd><dt>measurement_PAR.15</dt><dd>'numeric'</dd><dt>measurement_PAR.30</dt><dd>'numeric'</dd><dt>measurement_PAR.60</dt><dd>'numeric'</dd><dt>WaterColumnPosition</dt><dd>'factor'</dd><dt>cruise_id</dt><dd>'factor'</dd><dt>SampleDate</dt><dd>'character'</dd><dt>LinearTime</dt><dd>'numeric'</dd><dt>DayLength</dt><dd>'numeric'</dd><dt>FallPeak</dt><dd>'numeric'</dd><dt>Discharge_Sum.15</dt><dd>'numeric'</dd><dt>Microbial.Clusters</dt><dd>'factor'</dd><dt>StatName</dt><dd>'factor'</dd><dt>InvSimpson</dt><dd>'numeric'</dd><dt>FaithsPD</dt><dd>'numeric'</dd><dt>Habitat</dt><dd>'factor'</dd></dl>\n"
      ],
      "text/latex": [
       "\\begin{description*}\n",
       "\\item[PHEO] 'numeric'\n",
       "\\item[TN] 'numeric'\n",
       "\\item[TP] 'numeric'\n",
       "\\item[CHLA] 'numeric'\n",
       "\\item[DOP] 'numeric'\n",
       "\\item[DON] 'numeric'\n",
       "\\item[NH4F] 'numeric'\n",
       "\\item[NO2F] 'numeric'\n",
       "\\item[NO3F] 'numeric'\n",
       "\\item[PC] 'numeric'\n",
       "\\item[PO4F] 'numeric'\n",
       "\\item[DO] 'numeric'\n",
       "\\item[PH] 'numeric'\n",
       "\\item[SALINITY] 'numeric'\n",
       "\\item[WTEMP] 'numeric'\n",
       "\\item[Latitude] 'numeric'\n",
       "\\item[WIND\\textbackslash{}\\_RATIO\\textbackslash{}\\_BWI.15] 'numeric'\n",
       "\\item[WIND\\textbackslash{}\\_RATIO\\textbackslash{}\\_BWI.30] 'numeric'\n",
       "\\item[WIND\\textbackslash{}\\_RATIO\\textbackslash{}\\_BWI.60] 'numeric'\n",
       "\\item[PRECIP24HR\\textbackslash{}\\_BWI.15] 'numeric'\n",
       "\\item[PRECIP24HR\\textbackslash{}\\_BWI.30] 'numeric'\n",
       "\\item[PRECIP24HR\\textbackslash{}\\_BWI.60] 'numeric'\n",
       "\\item[measurement\\textbackslash{}\\_PAR.15] 'numeric'\n",
       "\\item[measurement\\textbackslash{}\\_PAR.30] 'numeric'\n",
       "\\item[measurement\\textbackslash{}\\_PAR.60] 'numeric'\n",
       "\\item[WaterColumnPosition] 'factor'\n",
       "\\item[cruise\\textbackslash{}\\_id] 'factor'\n",
       "\\item[SampleDate] 'character'\n",
       "\\item[LinearTime] 'numeric'\n",
       "\\item[DayLength] 'numeric'\n",
       "\\item[FallPeak] 'numeric'\n",
       "\\item[Discharge\\textbackslash{}\\_Sum.15] 'numeric'\n",
       "\\item[Microbial.Clusters] 'factor'\n",
       "\\item[StatName] 'factor'\n",
       "\\item[InvSimpson] 'numeric'\n",
       "\\item[FaithsPD] 'numeric'\n",
       "\\item[Habitat] 'factor'\n",
       "\\end{description*}\n"
      ],
      "text/markdown": [
       "PHEO\n",
       ":   'numeric'TN\n",
       ":   'numeric'TP\n",
       ":   'numeric'CHLA\n",
       ":   'numeric'DOP\n",
       ":   'numeric'DON\n",
       ":   'numeric'NH4F\n",
       ":   'numeric'NO2F\n",
       ":   'numeric'NO3F\n",
       ":   'numeric'PC\n",
       ":   'numeric'PO4F\n",
       ":   'numeric'DO\n",
       ":   'numeric'PH\n",
       ":   'numeric'SALINITY\n",
       ":   'numeric'WTEMP\n",
       ":   'numeric'Latitude\n",
       ":   'numeric'WIND_RATIO_BWI.15\n",
       ":   'numeric'WIND_RATIO_BWI.30\n",
       ":   'numeric'WIND_RATIO_BWI.60\n",
       ":   'numeric'PRECIP24HR_BWI.15\n",
       ":   'numeric'PRECIP24HR_BWI.30\n",
       ":   'numeric'PRECIP24HR_BWI.60\n",
       ":   'numeric'measurement_PAR.15\n",
       ":   'numeric'measurement_PAR.30\n",
       ":   'numeric'measurement_PAR.60\n",
       ":   'numeric'WaterColumnPosition\n",
       ":   'factor'cruise_id\n",
       ":   'factor'SampleDate\n",
       ":   'character'LinearTime\n",
       ":   'numeric'DayLength\n",
       ":   'numeric'FallPeak\n",
       ":   'numeric'Discharge_Sum.15\n",
       ":   'numeric'Microbial.Clusters\n",
       ":   'factor'StatName\n",
       ":   'factor'InvSimpson\n",
       ":   'numeric'FaithsPD\n",
       ":   'numeric'Habitat\n",
       ":   'factor'\n",
       "\n"
      ],
      "text/plain": [
       "               PHEO                  TN                  TP                CHLA \n",
       "          \"numeric\"           \"numeric\"           \"numeric\"           \"numeric\" \n",
       "                DOP                 DON                NH4F                NO2F \n",
       "          \"numeric\"           \"numeric\"           \"numeric\"           \"numeric\" \n",
       "               NO3F                  PC                PO4F                  DO \n",
       "          \"numeric\"           \"numeric\"           \"numeric\"           \"numeric\" \n",
       "                 PH            SALINITY               WTEMP            Latitude \n",
       "          \"numeric\"           \"numeric\"           \"numeric\"           \"numeric\" \n",
       "  WIND_RATIO_BWI.15   WIND_RATIO_BWI.30   WIND_RATIO_BWI.60   PRECIP24HR_BWI.15 \n",
       "          \"numeric\"           \"numeric\"           \"numeric\"           \"numeric\" \n",
       "  PRECIP24HR_BWI.30   PRECIP24HR_BWI.60  measurement_PAR.15  measurement_PAR.30 \n",
       "          \"numeric\"           \"numeric\"           \"numeric\"           \"numeric\" \n",
       " measurement_PAR.60 WaterColumnPosition           cruise_id          SampleDate \n",
       "          \"numeric\"            \"factor\"            \"factor\"         \"character\" \n",
       "         LinearTime           DayLength            FallPeak    Discharge_Sum.15 \n",
       "          \"numeric\"           \"numeric\"           \"numeric\"           \"numeric\" \n",
       " Microbial.Clusters            StatName          InvSimpson            FaithsPD \n",
       "           \"factor\"            \"factor\"           \"numeric\"           \"numeric\" \n",
       "            Habitat \n",
       "           \"factor\" "
      ]
     },
     "metadata": {},
     "output_type": "display_data"
    },
    {
     "data": {
      "text/html": [
       "0"
      ],
      "text/latex": [
       "0"
      ],
      "text/markdown": [
       "0"
      ],
      "text/plain": [
       "[1] 0"
      ]
     },
     "metadata": {},
     "output_type": "display_data"
    },
    {
     "data": {
      "text/plain": [
       "       \n",
       "         1  2  3\n",
       "  lower 94 64 17\n",
       "  upper  0  0 61"
      ]
     },
     "metadata": {},
     "output_type": "display_data"
    }
   ],
   "source": [
    "# Probe & USGS Discharge Data\n",
    "env_data_dir = \"/Volumes/KeithSSD/ChesapeakeMicrobiome/data/environmental_raw_data\"\n",
    "env_data_file1 = paste(env_data_dir, \"Transformed_WQVars_Hab_and_aDiv.txt\", sep=\"/\")\n",
    "env_data_file1.2 = paste(env_data_dir, \"Transformed_WQ_Vars_and_Habitats.txt\", sep=\"/\")\n",
    "env_data_1.2 <- read.delim(env_data_file1.2, row.names=1)[,'HABITAT.2']\n",
    "env_data_file2 = paste(env_data_dir, \"merged_paired_water_quality_data.txt\", sep=\"/\")\n",
    "env_data_1 <- cbind.data.frame(read.delim(env_data_file1, row.names=1), env_data_1.2)\n",
    "colnames(env_data_1)[colnames(env_data_1) == 'env_data_1.2'] = 'HABITAT.2'\n",
    "env_data_orig <- read.delim(env_data_file2, row.names=1)\n",
    "\n",
    "extra_cols1 = c('ENSpie.1', 'FaithsPD.1', 'Observed.ASVs.1', 'Chao1', 'ACE',  'Observed.ASVs', 'qPCR.ct', \n",
    "                'Discharge_Susquehanna.15', 'SpringPeak', 'Station', 'ENSpie')\n",
    "\n",
    "ENV.mini = env_data_1[,colnames(env_data_1)[which(!(colnames(env_data_1) %in% extra_cols1))]]\n",
    "\n",
    "ENV.mini$Microbial.Clusters <- factor(ENV.mini$Microbial.Clusters)\n",
    "ENV.mini$WaterColumnPosition <- factor(ENV.mini$WaterColumnPosition)\n",
    "intcols = colnames(ENV.mini)[which(sapply(ENV.mini, class) == 'integer')]\n",
    "for (ic in intcols)\n",
    "    ENV.mini[,ic] = factor(ENV.mini[,ic])\n",
    "\n",
    "ENV.mini[,'Habitat'] <- NULL\n",
    "names(ENV.mini)[names(ENV.mini) == 'HABITAT.2'] = 'Habitat'\n",
    "#ENV.mini = ENV.mini[,which(colSums(is.na(ENV.mini)) == 0)]\n",
    "sapply(ENV.mini, class)\n",
    "sum(colSums(is.na(ENV.mini)))\n",
    "table(ENV.mini$WaterColumnPosition, ENV.mini$Habitat)"
   ]
  },
  {
   "cell_type": "markdown",
   "metadata": {},
   "source": [
    "Read in the taxa classfications and tree"
   ]
  },
  {
   "cell_type": "code",
   "execution_count": 2,
   "metadata": {},
   "outputs": [],
   "source": [
    "library(phyloseq)\n",
    "#Taxonomy of each OTU\n",
    "tax = read.delim(\"/Volumes/KeithSSD/ChesapeakeMicrobiome/data/otu_tables/taxa_table_with_OTUs.txt\", row.names=1)\n",
    "tax_mat = as.matrix(tax)\n",
    "colnames(tax_mat)[1] <- 'Domain'\n",
    "tax_mat[tax_mat == \"\"] <- NA\n",
    "\n",
    "#Tree of all otus\n",
    "tree_file = \"/Volumes/KeithSSD/ChesapeakeMicrobiome/data/phylogenetic_tree/RAxML_rootedTree.root.query_all_abund.2.ref.tre\"\n",
    "tree_obj = read_tree(tree_file, errorIfNULL=T)"
   ]
  },
  {
   "cell_type": "markdown",
   "metadata": {},
   "source": [
    "Replace zeroes with pseudocounts and transform with phylogenetically aware ILR"
   ]
  },
  {
   "cell_type": "code",
   "execution_count": 3,
   "metadata": {},
   "outputs": [
    {
     "name": "stderr",
     "output_type": "stream",
     "text": [
      "Registered S3 method overwritten by 'treeio':\n",
      "  method     from\n",
      "  root.phylo ape \n",
      "\n",
      "Loading required package: MASS\n",
      "\n",
      "Loading required package: NADA\n",
      "\n",
      "Loading required package: survival\n",
      "\n",
      "\n",
      "Attaching package: ‘NADA’\n",
      "\n",
      "\n",
      "The following object is masked from ‘package:stats’:\n",
      "\n",
      "    cor\n",
      "\n",
      "\n",
      "Loading required package: truncnorm\n",
      "\n"
     ]
    },
    {
     "data": {
      "text/html": [
       "<style>\n",
       ".list-inline {list-style: none; margin:0; padding: 0}\n",
       ".list-inline>li {display: inline-block}\n",
       ".list-inline>li:not(:last-child)::after {content: \"\\00b7\"; padding: 0 .5ex}\n",
       "</style>\n",
       "<ol class=list-inline><li>236</li><li>1349</li></ol>\n"
      ],
      "text/latex": [
       "\\begin{enumerate*}\n",
       "\\item 236\n",
       "\\item 1349\n",
       "\\end{enumerate*}\n"
      ],
      "text/markdown": [
       "1. 236\n",
       "2. 1349\n",
       "\n",
       "\n"
      ],
      "text/plain": [
       "[1]  236 1349"
      ]
     },
     "metadata": {},
     "output_type": "display_data"
    },
    {
     "data": {
      "text/html": [
       "<style>\n",
       ".list-inline {list-style: none; margin:0; padding: 0}\n",
       ".list-inline>li {display: inline-block}\n",
       ".list-inline>li:not(:last-child)::after {content: \"\\00b7\"; padding: 0 .5ex}\n",
       "</style>\n",
       "<ol class=list-inline><li>1349</li><li>7</li></ol>\n"
      ],
      "text/latex": [
       "\\begin{enumerate*}\n",
       "\\item 1349\n",
       "\\item 7\n",
       "\\end{enumerate*}\n"
      ],
      "text/markdown": [
       "1. 1349\n",
       "2. 7\n",
       "\n",
       "\n"
      ],
      "text/plain": [
       "[1] 1349    7"
      ]
     },
     "metadata": {},
     "output_type": "display_data"
    },
    {
     "data": {
      "text/html": [
       "TRUE"
      ],
      "text/latex": [
       "TRUE"
      ],
      "text/markdown": [
       "TRUE"
      ],
      "text/plain": [
       "[1] TRUE"
      ]
     },
     "metadata": {},
     "output_type": "display_data"
    },
    {
     "data": {
      "text/html": [
       "TRUE"
      ],
      "text/latex": [
       "TRUE"
      ],
      "text/markdown": [
       "TRUE"
      ],
      "text/plain": [
       "[1] TRUE"
      ]
     },
     "metadata": {},
     "output_type": "display_data"
    },
    {
     "data": {
      "text/html": [
       "'Domain_Bacteria/Domain_Bacteria'"
      ],
      "text/latex": [
       "'Domain\\_Bacteria/Domain\\_Bacteria'"
      ],
      "text/markdown": [
       "'Domain_Bacteria/Domain_Bacteria'"
      ],
      "text/plain": [
       "[1] \"Domain_Bacteria/Domain_Bacteria\""
      ]
     },
     "metadata": {},
     "output_type": "display_data"
    },
    {
     "name": "stderr",
     "output_type": "stream",
     "text": [
      "Found more than one class \"phylo\" in cache; using the first, from namespace 'phyloseq'\n",
      "\n",
      "Also defined by ‘tidytree’\n",
      "\n",
      "Found more than one class \"phylo\" in cache; using the first, from namespace 'phyloseq'\n",
      "\n",
      "Also defined by ‘tidytree’\n",
      "\n",
      "Found more than one class \"phylo\" in cache; using the first, from namespace 'phyloseq'\n",
      "\n",
      "Also defined by ‘tidytree’\n",
      "\n",
      "Found more than one class \"phylo\" in cache; using the first, from namespace 'phyloseq'\n",
      "\n",
      "Also defined by ‘tidytree’\n",
      "\n",
      "Found more than one class \"phylo\" in cache; using the first, from namespace 'phyloseq'\n",
      "\n",
      "Also defined by ‘tidytree’\n",
      "\n",
      "Found more than one class \"phylo\" in cache; using the first, from namespace 'phyloseq'\n",
      "\n",
      "Also defined by ‘tidytree’\n",
      "\n",
      "Found more than one class \"phylo\" in cache; using the first, from namespace 'phyloseq'\n",
      "\n",
      "Also defined by ‘tidytree’\n",
      "\n",
      "Building Sequential Binary Partition from Tree...\n",
      "\n",
      "Building Contrast Matrix...\n",
      "\n",
      "Transforming the Data...\n",
      "\n",
      "Calculating ILR Weights...\n",
      "\n"
     ]
    }
   ],
   "source": [
    "library(philr) \n",
    "library(ape) \n",
    "library(ggplot2)\n",
    "library(zCompositions)\n",
    "\n",
    "#OTU table (shared file)\n",
    "OTU2 = read.delim(\"../data/otu_tables/final_rarefied_table.best.txt\", row.names=1)\n",
    "OTU.clean2 = OTU2[rownames(ENV.mini), ]\n",
    "OTU.clean2.1 = as.matrix(OTU.clean2[,colSums(OTU.clean2) > 0])\n",
    "OTU.clean2.2 <- data.matrix(OTU.clean2.1 + 0.5) #cmultRepl((OTU.clean2.1), method=\"CZM\", output=\"p-counts\"))\n",
    "tax.clean2 = tax_mat[colnames(OTU.clean2.2), ]\n",
    "tree.clean2 = prune_taxa(taxa=colnames(OTU.clean2.2), tree_obj)\n",
    "dim(OTU.clean2.2)\n",
    "dim(tax.clean2)\n",
    "is.rooted(tree.clean2)\n",
    "is.binary.tree(tree.clean2) \n",
    "tree.clean2.1 <- makeNodeLabel(tree.clean2, method=\"number\", prefix='n')\n",
    "name.balance(tree.clean2.1, tax.clean2, 'n1')\n",
    "\n",
    "physeq_2 = phyloseq(otu_table(OTU.clean2.2, taxa_are_rows = FALSE), \n",
    "                    tax_table(tax.clean2), sample_data(ENV.mini), tree.clean2.1)\n",
    "\n",
    "gp.philr <- philr(OTU.clean2.2, tree.clean2.1, part.weights='enorm.x.gm.counts',  ilr.weights='blw.sqrt')\n",
    "gp.dist <- dist(gp.philr, method=\"euclidean\")"
   ]
  },
  {
   "cell_type": "markdown",
   "metadata": {},
   "source": [
    "Perform PCoA, determine the best cluster number, perform clustering, check accuracy"
   ]
  },
  {
   "cell_type": "code",
   "execution_count": 4,
   "metadata": {},
   "outputs": [
    {
     "name": "stderr",
     "output_type": "stream",
     "text": [
      "Loading required package: lattice\n",
      "\n",
      "\n",
      "Attaching package: ‘caret’\n",
      "\n",
      "\n",
      "The following object is masked from ‘package:survival’:\n",
      "\n",
      "    cluster\n",
      "\n",
      "\n",
      "Loading required package: permute\n",
      "\n",
      "This is vegan 2.5-6\n",
      "\n",
      "\n",
      "Attaching package: ‘vegan’\n",
      "\n",
      "\n",
      "The following object is masked from ‘package:caret’:\n",
      "\n",
      "    tolerance\n",
      "\n",
      "\n"
     ]
    },
    {
     "name": "stdout",
     "output_type": "stream",
     "text": [
      "*** : The Hubert index is a graphical method of determining the number of clusters.\n",
      "                In the plot of Hubert index, we seek a significant knee that corresponds to a \n",
      "                significant increase of the value of the measure i.e the significant peak in Hubert\n",
      "                index second differences plot. \n",
      " \n"
     ]
    },
    {
     "data": {
      "image/png": "[encoded data removed]",
      "text/plain": [
       "plot without title"
      ]
     },
     "metadata": {
      "image/png": {
       "height": 420,
       "width": 420
      },
      "text/plain": {
       "height": 420,
       "width": 420
      }
     },
     "output_type": "display_data"
    },
    {
     "name": "stdout",
     "output_type": "stream",
     "text": [
      "*** : The D index is a graphical method of determining the number of clusters. \n",
      "                In the plot of D index, we seek a significant knee (the significant peak in Dindex\n",
      "                second differences plot) that corresponds to a significant increase of the value of\n",
      "                the measure. \n",
      " \n",
      "******************************************************************* \n",
      "* Among all indices:                                                \n",
      "* 6 proposed 2 as the best number of clusters \n",
      "* 6 proposed 3 as the best number of clusters \n",
      "* 1 proposed 4 as the best number of clusters \n",
      "* 4 proposed 5 as the best number of clusters \n",
      "* 1 proposed 6 as the best number of clusters \n",
      "* 1 proposed 11 as the best number of clusters \n",
      "* 1 proposed 13 as the best number of clusters \n",
      "* 3 proposed 15 as the best number of clusters \n",
      "\n",
      "                   ***** Conclusion *****                            \n",
      " \n",
      "* According to the majority rule, the best number of clusters is  2 \n",
      " \n",
      " \n",
      "******************************************************************* \n",
      "[1] \"Scott\"      \"Marriot\"    \"TrCovW\"     \"TraceW\"     \"Ball\"      \n",
      "[6] \"PtBiserial\"\n"
     ]
    },
    {
     "data": {
      "text/plain": [
       "       \n",
       "pam.res  1  2  3\n",
       "      1 54  0 17\n",
       "      2 26 61 27\n",
       "      3 14  3 34"
      ]
     },
     "metadata": {},
     "output_type": "display_data"
    },
    {
     "data": {
      "text/plain": [
       "Confusion Matrix and Statistics\n",
       "\n",
       "          Reference\n",
       "Prediction  1  2  3\n",
       "         1 54  0 17\n",
       "         2 26 61 27\n",
       "         3 14  3 34\n",
       "\n",
       "Overall Statistics\n",
       "                                         \n",
       "               Accuracy : 0.6314         \n",
       "                 95% CI : (0.5663, 0.693)\n",
       "    No Information Rate : 0.3983         \n",
       "    P-Value [Acc > NIR] : 4.367e-13      \n",
       "                                         \n",
       "                  Kappa : 0.4561         \n",
       "                                         \n",
       " Mcnemar's Test P-Value : 7.279e-10      \n",
       "\n",
       "Statistics by Class:\n",
       "\n",
       "                     Class: 1 Class: 2 Class: 3\n",
       "Sensitivity            0.5745   0.9531   0.4359\n",
       "Specificity            0.8803   0.6919   0.8924\n",
       "Pos Pred Value         0.7606   0.5351   0.6667\n",
       "Neg Pred Value         0.7576   0.9754   0.7622\n",
       "Prevalence             0.3983   0.2712   0.3305\n",
       "Detection Rate         0.2288   0.2585   0.1441\n",
       "Detection Prevalence   0.3008   0.4831   0.2161\n",
       "Balanced Accuracy      0.7274   0.8225   0.6642"
      ]
     },
     "metadata": {},
     "output_type": "display_data"
    },
    {
     "data": {
      "image/png": "[encoded data removed]",
      "text/plain": [
       "plot without title"
      ]
     },
     "metadata": {
      "image/png": {
       "height": 420,
       "width": 420
      },
      "text/plain": {
       "height": 420,
       "width": 420
      }
     },
     "output_type": "display_data"
    }
   ],
   "source": [
    "library(caret)\n",
    "library(vegan)\n",
    "library(cluster)\n",
    "gp.pcoa <- ordinate(physeq_2, 'PCoA', distance=gp.dist)\n",
    "DCAxyz = gp.pcoa$vectors[,1:3]\n",
    "library(NbClust)\n",
    "number <- suppressMessages(NbClust(DCAxyz, distance=\"euclidean\", min.nc=2, max.nc=15, method='ward.D2', index='all'))\n",
    "print(colnames(number[['Best.nc']])[which(number[['Best.nc']]['Number_clusters',]  == 3.)])\n",
    "pam.res <- pam(DCAxyz, 3, diss=FALSE, metric='euclidean')$clustering\n",
    "table(pam.res, ENV.mini$Habitat)\n",
    "ENV.mini$Microbial.Clusters = factor(paste(\"M\", pam.res, sep='.'), levels=c('M.1', 'M.2', 'M.3'))\n",
    "\n",
    "confusionMatrix(factor(as.integer(ENV.mini$Microbial.Clusters)), \n",
    "                factor(ENV.mini$Habitat))\n"
   ]
  },
  {
   "cell_type": "code",
   "execution_count": 6,
   "metadata": {},
   "outputs": [],
   "source": [
    "just_clusters = ENV.mini[,c(\"Habitat\", 'Microbial.Clusters')]\n",
    "write.table(just_clusters, file='/Volumes/KeithSSD/ChesapeakeMicrobiome/data/environmental_raw_data/both_cluster_types.txt',\n",
    "           sep=\"\\t\", row.names=T)\n"
   ]
  },
  {
   "cell_type": "code",
   "execution_count": null,
   "metadata": {},
   "outputs": [],
   "source": [
    "ENV.mini.2 <- subset(ENV.mini, select=-c(SampleDate, FaithsPD, InvSimpson, Microbial.Clusters))\n",
    "\n",
    "\n",
    "cap.env.mini <- capscale(gp.dist ~ ., data=ENV.mini.2)\n",
    "mod0.env.mini <- capscale(gp.dist ~ 1, data=ENV.mini.2)\n",
    "#step.env.mini <- ordistep(mod0.env.mini, scope=formula(cap.env.mini), direction =\"both\", trace=T)"
   ]
  },
  {
   "cell_type": "code",
   "execution_count": null,
   "metadata": {},
   "outputs": [],
   "source": [
    "ENV.mini.2.nohab <- subset(ENV.mini.2, select=-c(cruise_id, Habitat, StatName))\n",
    "cap.env.mini.u <- capscale(gp.dist ~ ., data=ENV.mini.2.nohab)\n",
    "mod0.env.mini.u <- capscale(gp.dist ~ 1, data=ENV.mini.2.nohab)\n",
    "#step.env.mini.u <- ordiR2step(mod0.env.mini.u, scope=formula(cap.env.mini.u), direction =\"both\", trace=T)"
   ]
  },
  {
   "cell_type": "code",
   "execution_count": null,
   "metadata": {},
   "outputs": [],
   "source": [
    "RsquareAdj(capscale(gp.dist ~ cruise_id + StatName + Habitat, data=ENV.mini.2))\n",
    "RsquareAdj(capscale(gp.dist ~ FallPeak + SALINITY + DayLength + PO4F + LinearTime, data=ENV.mini.2))"
   ]
  },
  {
   "cell_type": "code",
   "execution_count": null,
   "metadata": {},
   "outputs": [],
   "source": [
    "model_types = list('categorical' = c('cruise_id', 'StatName', 'Habitat'),\n",
    "                   'continuous' = c('FallPeak', 'SALINITY', 'DayLength', 'PO4F', 'LinearTime'))\n",
    "\n",
    "cons_ord_res = data.frame('adjr2'=c(), 'pval'=c(), 'incremental.adjR2'=c(), \n",
    "                          'variable_selection_step' = c(), 'model.type'=c())\n",
    "cntrx = 0\n",
    "\n",
    "for (mt in names(model_types)){\n",
    "    vars_mt = model_types[[mt]]\n",
    "    for (v_i in 1:length(vars_mt)){\n",
    "        cntrx = cntrx + 1\n",
    "        cap.env.ind <- capscale(gp.dist ~ 1 + . , data=as.data.frame(ENV.mini.2[,c(vars_mt[v_i])]))\n",
    "        cap.env.inc <- capscale(gp.dist ~ 1 + ., data=as.data.frame(ENV.mini.2[,vars_mt[1:v_i]]))\n",
    "        cons_ord_res[cntrx, 'adjr2'] = round(RsquareAdj(cap.env.ind)$adj.r.squared, 3)\n",
    "        cons_ord_res[cntrx, 'pval'] = anova(cap.env.ind)[\"Pr(>F)\"]['Model',]\n",
    "        cons_ord_res[cntrx, 'incremental.adjR2'] = round(RsquareAdj(cap.env.inc)$adj.r.squared, 3)\n",
    "        cons_ord_res[cntrx, 'variable_selection_step'] = v_i\n",
    "        cons_ord_res[cntrx, 'model.type'] = mt\n",
    "        print(paste(cntrx, vars_mt[v_i]))\n",
    "        flush.console()\n",
    "    }\n",
    "}\n",
    "\n",
    "\n",
    "rownames(cons_ord_res) <- c(model_types[['categorical']], model_types[['continuous']])\n",
    "cons_ord_res\n",
    "write.table(cons_ord_res, file='/Volumes/KeithSSD/ChesapeakeMicrobiome/tables/constrainedOrdinationResults.txt',\n",
    "           sep='\\t', row.names=T)"
   ]
  },
  {
   "cell_type": "code",
   "execution_count": null,
   "metadata": {},
   "outputs": [],
   "source": [
    "options(repr.plot.width=5, repr.plot.height=5, repr.plot.res = 250)\n",
    "overview.vp <- varpart(gp.dist, \n",
    "                       ~ FallPeak + DayLength,\n",
    "                       ~ SALINITY,\n",
    "                       ~ LinearTime,\n",
    "                       ~ PO4F, data=ENV.mini)\n",
    "\n",
    "overview.vp\n",
    "plot(overview.vp)"
   ]
  },
  {
   "cell_type": "code",
   "execution_count": null,
   "metadata": {
    "scrolled": false
   },
   "outputs": [],
   "source": [
    "options(repr.plot.width=5, repr.plot.height=5, repr.plot.res = 250)\n",
    "\n",
    "plot(varpart(gp.dist, ~ FallPeak + SALINITY + LinearTime + DayLength, ~ NO2F,  data=ENV.mini))\n",
    "plot(varpart(gp.dist, ~ FallPeak + SALINITY + LinearTime + DayLength, ~ PO4F,  data=ENV.mini))\n",
    "plot(varpart(gp.dist, ~ FallPeak + SALINITY + LinearTime + DayLength, ~ DO,  data=ENV.mini))\n",
    "\n",
    "flush.console()\n"
   ]
  },
  {
   "cell_type": "code",
   "execution_count": null,
   "metadata": {},
   "outputs": [],
   "source": [
    "ENV.mini.3 = cbind(ENV.mini)\n",
    "colnames(ENV.mini.3)[colnames(ENV.mini.3) == 'SALINITY'] = 'Salinity'\n",
    "colnames(ENV.mini.3)[colnames(ENV.mini.3) == 'PO4F'] = 'Phosphate'\n",
    "colnames(ENV.mini.3)[colnames(ENV.mini.3) == 'FallPeak'] = 'Seasonality'\n",
    "impo_names = c('Microbial.Clusters', 'DayLength', 'LinearTime', 'Salinity', 'Phosphate', 'Seasonality', 'Habitat')\n",
    "ENV.mini.3 = ENV.mini.3[,impo_names]\n",
    "sample_data(physeq_2) <- sample_data(ENV.mini.3)"
   ]
  },
  {
   "cell_type": "code",
   "execution_count": null,
   "metadata": {},
   "outputs": [],
   "source": [
    "set.seed(100)\n",
    "wUF.nmds.3D = metaMDS(gp.dist, method=\"NMDS\", k=3, trymax=1000, trace=0)\n",
    "\n",
    "options(repr.plot.width=3.5, repr.plot.height=3.5)\n",
    "par(mfrow = c(1,1), mar = c(3.5,3.5,3,1), mgp = c(2, 0.6, 0), cex = 0.8, las = 1)\n",
    "pears <- round(cor(gp.dist, dist(wUF.nmds.3D$points), method = \"pearson\"),3)\n",
    "plot(gp.dist, dist(wUF.nmds.3D$points), main = \"Shepard diagram of MDS\", \n",
    "     xlab = \"True UniFrac distance\", ylab = \"Distance in the reduced space\", pch=18)\n",
    "mtext(line = 0.1, text = paste0(\"Pearson correlation = \", pears), cex = 0.7)\n"
   ]
  },
  {
   "cell_type": "code",
   "execution_count": null,
   "metadata": {},
   "outputs": [],
   "source": [
    "n = 7\n",
    "stress <- rep(0, n)\n",
    "for (i in 1:n) {\n",
    "    stress[i] <- metaMDS(gp.dist, trymax=1000, k = i, trace=0)$stress\n",
    "}\n",
    "names(stress) <- paste(1:n, \"Dim\", sep=\"-\")\n",
    "stress\n",
    "par(cex=0.8)\n",
    "barplot(stress, ylab = \"residual stress\", xlab='# of axis used')\n",
    "title('Weighted UniFrac NMDS Fit')"
   ]
  },
  {
   "cell_type": "code",
   "execution_count": null,
   "metadata": {},
   "outputs": [],
   "source": [
    "ENV.mini.3$Habitat.Clusters <- factor(paste('H', ENV.mini.3$Habitat, sep=\".\"))\n",
    "\n",
    "ENV.mini.3$CrossClusters = paste(as.character(ENV.mini.3$Microbial.Clusters), \n",
    "                                 as.character(ENV.mini.3$Habitat.Clusters), sep=\"+\")\n",
    "table(ENV.mini.3$CrossClusters)\n",
    "\n",
    "cross_ref = table(ENV.mini.3$Microbial.Clusters, ENV.mini.3$Habitat.Clusters)\n",
    "cross_ref\n",
    "two_way_corresp = cbind((diag(cross_ref) / colSums(cross_ref)) , \n",
    "                        (diag(cross_ref) / rowSums(cross_ref)))\n",
    "two_way_corresp\n",
    "per_class_corresp = apply(two_way_corresp, 1, mean)\n",
    "per_class_corresp\n",
    "mean(per_class_corresp)"
   ]
  },
  {
   "cell_type": "code",
   "execution_count": null,
   "metadata": {},
   "outputs": [],
   "source": [
    "disp_vars = c('Salinity', 'Phosphate', 'Seasonality', 'DayLength')\n",
    "\n",
    "\n",
    "fit.swUF = envfit(wUF.nmds.3D, ENV.mini.3[,  disp_vars])\n",
    "fit.swUF\n",
    "fit.swUF2 = envfit(wUF.nmds.3D, ENV.mini.3[, disp_vars], choices=c(2,3))\n",
    "fit.swUF2\n",
    "fit.swUF3 = envfit(wUF.nmds.3D, ENV.mini.3[, disp_vars], choices=c(1,3))\n",
    "fit.swUF3"
   ]
  },
  {
   "cell_type": "code",
   "execution_count": null,
   "metadata": {},
   "outputs": [],
   "source": [
    "options(repr.plot.width=5, repr.plot.height=5)\n",
    "wUNFxyz = scores(wUF.nmds.3D, display=\"sites\")\n",
    "\n",
    "plot(wUNFxyz[,1], wUNFxyz[,2], main=\"UF 1:2\", pch=20)\n",
    "plot(fit.swUF, add=T)\n",
    "plot(wUNFxyz[,2], wUNFxyz[,3], main=\"UF 1:3\", pch=20)\n",
    "plot(fit.swUF3, add=T)"
   ]
  },
  {
   "cell_type": "code",
   "execution_count": null,
   "metadata": {},
   "outputs": [],
   "source": [
    "library(ggplot2)\n",
    "\n",
    "mini.vectors.12 = c('Seasonality', 'Salinity', 'NO2F', 'WTEMP')\n",
    "colnames(wUNFxyz) <- c('NMDS1', 'NMDS2', 'NMDS3')\n",
    "plot.df.mini = cbind.data.frame(wUNFxyz, ENV.mini.3)\n",
    "sapply(plot.df.mini, class)\n",
    "\n",
    "spp.scrs <- as.data.frame(scores(fit.swUF, display = \"vectors\"))\n",
    "spp.scrs <- apply(spp.scrs, MARGIN=2, FUN=function(x) {x*4.3})\n",
    "spp.scrs\n",
    "\n",
    "options(repr.plot.width=6, repr.plot.height=4)\n",
    "sp2<-ggplot(plot.df.mini, aes(x=NMDS1, y=NMDS2)) + \n",
    "              geom_point(aes(color=CrossClusters)) + theme_classic() + \n",
    "              scale_color_manual(values = c(\"M.1+H.1\" = \"blue\",  'M.1+H.3' =' chartreuse',\n",
    "                                            \"M.2+H.2\" = \"red1\",  'M.2+H.1' ='orchid3', 'M.2+H.3'='orange1',\n",
    "                                            'M.3+H.3' = 'gold2', 'M.3+H.2' = 'darkorange2', 'M.3+H.1'= 'forestgreen')) + \n",
    "              annotate(\"segment\", x = 0, xend = spp.scrs[,'NMDS1'],y = 0, yend = spp.scrs[,'NMDS2'], alpha=0.7,\n",
    "                       colour = \"black\", size=0.9, arrow=arrow(length = unit(0.12, \"inches\")))  + \n",
    "              annotate('text', \n",
    "                        x= c(-0.288, -3.3, -3.8, 1.6), \n",
    "                        y= c(4.2, -1.45, 1.10, -1.1), \n",
    "                        label=c('Salinity', 'PO4', 'Season', 'DayLength'),\n",
    "                        color='black', alpha=1.0, size=3.5)\n",
    "sp2\n",
    "\n"
   ]
  },
  {
   "cell_type": "code",
   "execution_count": null,
   "metadata": {},
   "outputs": [],
   "source": [
    "spp.scrs <- as.data.frame(scores(fit.swUF3, display = \"vectors\"))\n",
    "spp.scrs <- apply(spp.scrs, MARGIN=2, FUN=function(x) {x*4})\n",
    "spp.scrs\n",
    "    \n",
    "sp3 <- ggplot(plot.df.mini, aes(x=NMDS1, y=NMDS3)) + \n",
    "             geom_point(aes(color=CrossClusters)) + theme_classic() + \n",
    "              scale_color_manual(values = c(\"M.1+H.1\" = \"blue\",  'M.1+H.3' =' chartreuse',\n",
    "                                            \"M.2+H.2\" = \"red1\",  'M.2+H.1' ='orchid3', 'M.2+H.3'='orange1',\n",
    "                                            'M.3+H.3' = 'gold2', 'M.3+H.2' = 'darkorange2', 'M.3+H.1'= 'forestgreen')) + \n",
    "              annotate(\"segment\", x = 0, xend = spp.scrs[,'NMDS1'],y = 0, yend = spp.scrs[,'NMDS3'], \n",
    "                      alpha=0.7, colour = \"black\", size=0.9, arrow=arrow(length = unit(0.12, \"inches\"))) \n",
    "#              annotate('text', x= c(-0.264, 0.011, -0.25, 0.23, 0.219), \n",
    "#                        y= c(-0.142, -0.35, 0.02, 0.08, -0.117), \n",
    "#                        label=c('WTEMP', 'SALINITY', 'PO4F', 'DO', 'NO2F'),\n",
    "#                        color='black', alpha=1.0, size=4)\n",
    "sp3\n",
    "\n",
    "\n"
   ]
  },
  {
   "cell_type": "code",
   "execution_count": null,
   "metadata": {},
   "outputs": [],
   "source": [
    "round(cor(sapply(plot.df.mini[,c('NMDS1', 'NMDS2', 'NMDS3', 'Habitat', 'Salinity', 'Seasonality')], as.numeric)), 3)\n",
    "\n",
    "\n",
    "#head(plot.df.mini)"
   ]
  },
  {
   "cell_type": "code",
   "execution_count": null,
   "metadata": {},
   "outputs": [],
   "source": [
    "write.table(plot.df.mini, file='../data/otu_tables/microbial_community_clusters.txt', sep=\"\\t\")"
   ]
  },
  {
   "cell_type": "code",
   "execution_count": null,
   "metadata": {},
   "outputs": [],
   "source": [
    "library(readr)\n",
    "library(tidyverse)\n",
    "# set up abundace tables\n",
    "source(\"../bin/ANCOM/scripts/ancom_v2.1.R\")\n",
    "taxa_abund = round(t(read.delim(\"../data/otu_tables/taxa_family_abundances.txt\", sep=\"\\t\", row.names=1)))\n",
    "fxn_abund = round(t(read.delim(\"../data/faprotax_data/function_abundances.txt\", sep=\"\\t\", row.names=1)))\n",
    "taxa_abund2 = round(t(read.delim(\"../data/otu_tables/taxa_order_abundances.txt\", sep=\"\\t\", row.names=1)))\n",
    "# set up metadata\n",
    "ENV.mini.ancom = ENV.mini.3[,c('Microbial.Clusters', 'Habitat.Clusters')]\n",
    "ENV.mini.ancom[,'Sample.ID'] <- rownames(ENV.mini.2)\n",
    "dim(taxa_abund)\n",
    "dim(taxa_abund2)\n",
    "aggr_abunds = rbind.data.frame(taxa_abund, taxa_abund2)\n",
    "dim(aggr_abunds)\n",
    "dim(fxn_abund)\n"
   ]
  },
  {
   "cell_type": "code",
   "execution_count": null,
   "metadata": {},
   "outputs": [],
   "source": [
    "sample_var = \"Sample.ID\"; group_var = NULL; out_cut = 0.05; zero_cut = 0.90; lib_cut = 0; neg_lb = FALSE\n",
    "\n",
    "paste('fxn table before:', nrow(fxn_abund), sep=\" \")\n",
    "\n",
    "prepro.f = feature_table_pre_process(fxn_abund, ENV.mini.ancom, sample_var, group_var, \n",
    "                                      out_cut, zero_cut, lib_cut, neg_lb)\n",
    "\n",
    "paste('fxn table before:', nrow(prepro.f$feature_table), sep=\" \")"
   ]
  },
  {
   "cell_type": "code",
   "execution_count": null,
   "metadata": {},
   "outputs": [],
   "source": [
    "sample_var = \"Sample.ID\"; group_var = NULL; out_cut = 0.05; zero_cut = 0.90; lib_cut = 0; neg_lb = FALSE\n",
    "\n",
    "paste('tax table before:', nrow(aggr_abunds), sep=\" \")\n",
    "\n",
    "prepro.t = feature_table_pre_process(aggr_abunds, ENV.mini.ancom, sample_var, group_var, \n",
    "                                      out_cut, zero_cut, lib_cut, neg_lb)\n",
    "\n",
    "paste('tax table before:', nrow(prepro.t$feature_table), sep=\" \")"
   ]
  },
  {
   "cell_type": "code",
   "execution_count": null,
   "metadata": {},
   "outputs": [],
   "source": [
    "# switch to make everything relative to the largest cluster\n",
    "prepro.f$meta_data$Microbial.Clusters2 = relevel(prepro.f$meta_data$Microbial.Clusters, ref='M.2')\n",
    "# run ancom\n",
    "main_var = \"Microbial.Clusters2\"; p_adj_method = \"BH\"; alpha = 0.001; rand_formula = NULL; adj_formula = NULL\n",
    "t_start = Sys.time()\n",
    "res.f = ANCOM(prepro.f$feature_table, prepro.f$meta_data, prepro.f$structure_zeros, \n",
    "              main_var, p_adj_method, alpha, adj_formula, rand_formula)\n",
    "t_end = Sys.time()\n",
    "t_end - t_start "
   ]
  },
  {
   "cell_type": "code",
   "execution_count": null,
   "metadata": {},
   "outputs": [],
   "source": [
    "# switch to make everything relative to the largest cluster\n",
    "prepro.t$meta_data$Microbial.Clusters2 = relevel(prepro.t$meta_data$Microbial.Clusters, ref='M.2')\n",
    "# run ancom\n",
    "main_var = \"Microbial.Clusters2\"; p_adj_method = \"BH\"; alpha = 0.001; rand_formula = NULL\n",
    "adj_formula = NULL\n",
    "t_start = Sys.time()\n",
    "res.t = ANCOM(prepro.t$feature_table, prepro.t$meta_data, prepro.t$structure_zeros, \n",
    "            main_var, p_adj_method, alpha, adj_formula, rand_formula)\n",
    "t_end = Sys.time()\n",
    "t_end - t_start "
   ]
  },
  {
   "cell_type": "code",
   "execution_count": null,
   "metadata": {
    "scrolled": false
   },
   "outputs": [],
   "source": [
    "eff_size.f = res.f[['fig.data']][which(!(is.na(res.f[['fig.data']]$y))),]\n",
    "eff_size.t = res.t[['fig.data']][which(!(is.na(res.t[['fig.data']]$y))),]\n",
    "eff_size.f$y = (eff_size.f$y)/(nrow(prepro.f$feature_table))\n",
    "eff_size.t$y = (eff_size.t$y)/(nrow(prepro.t$feature_table))\n",
    "eff_size = rbind(eff_size.t, eff_size.f)\n",
    "eff_size[which(eff_size$group == 'Microbial.Clusters2 = M.3'),'group'] = 'M.3 relative to M.2'\n",
    "eff_size[which(eff_size$group == 'Microbial.Clusters2 = M.1'),'group'] = 'M.1 relative to M.2'\n",
    "eff_size[,'data.type'] = NA\n",
    "eff_size[which(eff_size$taxa_id %in% rownames(taxa_abund)), 'data.type'] = 'Family (Taxa)'\n",
    "eff_size[which(eff_size$taxa_id %in% rownames(fxn_abund)), 'data.type'] = 'Function (FAPROTAX)'\n",
    "eff_size[which(eff_size$taxa_id %in% rownames(taxa_abund2)), 'data.type'] = 'Order (Taxa)'\n",
    "eff_size$data.type <- factor(eff_size$data.type)\n",
    "options(repr.plot.width=8, repr.plot.height=6, repr.plot.res = 250)\n",
    "fig = ggplot(data = eff_size) + aes(x = x, y = y) + \n",
    "      geom_point(aes(color = data.type)) + facet_wrap(~ group) +\n",
    "      labs(x = \"CLR mean difference\", y = \"W statistic\") +\n",
    "      theme(plot.title = element_text(hjust = 0.5), legend.position = \"top\",\n",
    "            strip.background = element_rect(fill = \"white\")) + \n",
    "      geom_hline(yintercept = 0.7, linetype = \"dashed\") #+ \n",
    "#      geom_vline(xintercept = c(-1.25, 1.25) , linetype = \"dashed\")\n",
    "fig\n",
    "\n",
    "eff_size[which(eff_size$data.type == 'Function (FAPROTAX)'), ]"
   ]
  },
  {
   "cell_type": "code",
   "execution_count": null,
   "metadata": {},
   "outputs": [],
   "source": [
    "extra_fxn = c('aerobic_chemoheterotrophy', 'anoxygenic_photoautotrophy_S_oxidizing', 'hydrocarbon_degradation')\n",
    "fxnThresh = which((eff_size$y > 0.75) & (abs(eff_size$x) > 0.95) & (eff_size$data.type == 'Function (FAPROTAX)'))\n",
    "paste(\"Functions retained: \", length(unique(eff_size[fxnThresh, 'taxa_id'])), sep=\"\")\n",
    "taxnThresh = which((eff_size$y > 0.75) & (abs(eff_size$x) > 1.3) & (eff_size$data.type != 'Function (FAPROTAX)'))\n",
    "paste(\"Taxa retained: \", length(unique(eff_size[taxnThresh, 'taxa_id'])), sep=\"\")\n",
    "eff_effprex = eff_size[union(fxnThresh, taxnThresh),]\n",
    "eff_effpre = eff_effprex[which(!(eff_effprex$taxa_id %in% extra_fxn)),]\n",
    "eff_effs = unique(subset(eff_effpre, select=c(-group, -x)))\n",
    "sig_orders = eff_effs[which(eff_effs$data.type == 'Order (Taxa)'), 'taxa_id']\n",
    "order_names = str_split_fixed(sig_orders, fixed('.'), n=2)[,2]\n",
    "sig_fams = eff_effs[which(eff_effs$data.type == 'Family (Taxa)'), 'taxa_id']\n",
    "order_names2 = str_split_fixed(sig_fams, fixed('.'), n=2)[,1]\n",
    "order_overlap = sig_orders[which(order_names %in% order_names2)]\n",
    "eff_effs = eff_effs[which(!(eff_effs$taxa_id %in% order_overlap)),]\n",
    "nrow(eff_effs)\n",
    "agg_abunds2 = rbind.data.frame(taxa_abund, fxn_abund, taxa_abund2)[eff_effs$taxa_id,]\n",
    "agg_abunds2 = agg_abunds2/rowMeans(agg_abunds2)\n",
    "agg_abunds2[1:5, 1:5]\n",
    "\n",
    "# get aggregate abundances per cluster level\n",
    "for (lev in levels(ENV.mini.ancom$Microbial.Clusters)){\n",
    "    samps_i = ENV.mini.ancom[which(ENV.mini.ancom[,'Microbial.Clusters'] == lev), 'Sample.ID']\n",
    "    aggd_abunds_i = rowMeans(agg_abunds2[, samps_i])\n",
    "    newName = as.character(lev)\n",
    "    eff_effs = cbind.data.frame(eff_effs, data.frame(newName = aggd_abunds_i))\n",
    "    colnames(eff_effs)[colnames(eff_effs) == 'newName'] = newName\n",
    "}\n",
    "\n",
    "eff_effs[order(eff_effs$data.type, eff_effs$y),]\n",
    "min(apply(eff_effs[,4:6], 1, max))"
   ]
  },
  {
   "cell_type": "code",
   "execution_count": null,
   "metadata": {},
   "outputs": [],
   "source": [
    "aerobic_proc = c('aerobic_ammonia_oxidation', 'aerobic_anoxygenic_phototrophy', 'aerobic_chemoheterotrophy', \n",
    "                 'aerobic_nitrite_oxidation', 'knallgas_bacteria', 'nitrification', 'oxygenic_photoautotrophy')\n",
    "\n",
    "anaerobic_proc = c(\"acetoclastic_methanogenesis\", \"anammox\", \"arsenate_respiration\", \"dark_sulfite_oxidation\", \n",
    "                   \"denitrification\", \"fermentation\", \"fumarate_respiration\", \"hydrogenotrophic_methanogenesis\", \n",
    "                   \"iron_respiration\", \"manganese_respiration\", \"methanogenesis\", \n",
    "                   \"methanogenesis_by_CO2_reduction_with_H2\", \"methanogenesis_by_disproportionation_of_methyl_groups\",\n",
    "                   \"methanogenesis_by_reduction_of_methyl_compounds_with_H2\", \"methanogenesis_using_formate\", \n",
    "                   \"nitrate_ammonification\", \"nitrate_denitrification\", \"nitrate_respiration\", \n",
    "                   \"nitrite_ammonification\", \"nitrite_denitrification\", \"nitrite_respiration\", \n",
    "                   \"nitrogen_respiration\", \"nitrous_oxide_denitrification\", \"reductive_acetogenesis\", \n",
    "                   \"respiration_of_sulfur_compounds\", 'sulfate_respiration', \"sulfite_respiration\", \n",
    "                   'sulfur_respiration', \"thiosulfate_respiration\")"
   ]
  },
  {
   "cell_type": "code",
   "execution_count": null,
   "metadata": {},
   "outputs": [],
   "source": [
    "library(dplyr)\n",
    "library(reshape2)\n",
    "fxn_sum = cbind(eff_effs)\n",
    "\n",
    "colnames(fxn_sum)[which(colnames(fxn_sum)== 'taxa_id')] <- 'population.id'\n",
    "fxn_sum <- melt(fxn_sum, id.vars=c('y', 'data.type','population.id'), measure.vars=c('M.1', 'M.2', 'M.3'),  \n",
    "                value.name='mean.scaled.relative.abundance', variable.name='community.cluster')\n",
    "fxn_sum[,'O2.Status'] <- NA\n",
    "fxn_sum[which(fxn_sum$population.id %in% aerobic_proc),'O2.Status'] = 'Aerobic'\n",
    "fxn_sum[which(fxn_sum$population.id %in% anaerobic_proc),'O2.Status'] = 'Anaerobic'\n",
    "fxn_sum[,'O2.Status'] <- factor(fxn_sum[,'O2.Status'])\n",
    "fxn_sum[,'data.type'] <- factor(fxn_sum[,'data.type'])\n",
    "head(fxn_sum)\n",
    "fxn_sum = fxn_sum[order(fxn_sum[,'data.type'], fxn_sum[,'community.cluster'], fxn_sum[,'mean.scaled.relative.abundance']),]\n",
    "fxn_sum$population.id <- factor(fxn_sum$population.id, levels=unique(as.character(fxn_sum$population.id)))\n",
    "\n",
    "options(repr.plot.width=8, repr.plot.height=6)\n",
    "p <-ggplot(fxn_sum, aes(x=population.id, y=mean.scaled.relative.abundance, fill=data.type)) + \n",
    "    geom_bar(stat=\"identity\") + theme_minimal() + coord_flip() + \n",
    "    #scale_y_continuous(labels = function(x) {format(x, scientific = TRUE)}) + \n",
    "    theme(axis.text.x = element_text(angle = 0, vjust = 0.9, hjust=1))\n",
    "                       \n",
    "p + facet_grid(. ~ community.cluster) + theme(legend.position = \"top\")"
   ]
  },
  {
   "cell_type": "code",
   "execution_count": null,
   "metadata": {},
   "outputs": [],
   "source": [
    "ENV.mini.manova = cbind(env_data_orig[,c('WaterColumnPosition', 'FallPeak', 'TN',\n",
    "                                         'DayLength', 'PO4F', 'DO', 'WTEMP', 'SALINITY')])\n",
    "colnames(ENV.mini.manova)[colnames(ENV.mini.manova) == 'FallPeak'] = 'Season'\n",
    "colnames(ENV.mini.manova)[colnames(ENV.mini.manova) == 'SALINITY'] = 'Salinity'\n",
    "ENV.mini.manova[,'PctSurface'] <- as.integer(factor(ENV.mini.manova[,'WaterColumnPosition'])) - 1\n",
    "ENV.mini.manova[,'WaterColumnPosition'] <- NULL\n",
    "num_cols = c('DO', 'WTEMP', 'Salinity', 'DayLength', 'PO4F', 'Season', 'TN')\n",
    "ENV.by.level =  list()\n",
    "ENV.by.level.sd =  list()\n",
    "for (lev in levels(ENV.mini.ancom$Microbial.Clusters)){\n",
    "    samps_i = rownames(ENV.mini.ancom)[which(ENV.mini.ancom[,'Microbial.Clusters'] == lev)]\n",
    "    aggd_abunds_i = colMeans(ENV.mini.manova[samps_i,], na.rm=T)\n",
    "    ENV.by.level[[lev]] = aggd_abunds_i\n",
    "    ENV.by.level.sd[[lev]] = apply(ENV.mini.manova[samps_i,], 2, function(x) {sd(x, na.rm=T)})\n",
    "}\n",
    "env_by_mclust = data.frame(ENV.by.level)\n",
    "env_by_mclust[,'Variables'] <- factor(rownames(env_by_mclust))\n",
    "env_by_mclust.sd = data.frame(ENV.by.level.sd)\n",
    "env_by_mclust.sd[,'Variables'] <- factor(rownames(env_by_mclust.sd))\n",
    "\n",
    "env_by_mclust = cbind.data.frame(melt(env_by_mclust, id.vars='Variables', value.name='Mean'), \n",
    "                      data.frame('SD'=melt(env_by_mclust.sd, id.vars='Variables', value.name='SD')[,'SD']), \n",
    "                      data.frame('Source.Data'=rep('Microbes', nrow(env_by_mclust)*(ncol(env_by_mclust)-1))))\n",
    "\n",
    "env_by_mclust$Cluster = factor(as.integer(env_by_mclust$variable))\n",
    "ENV.mini.2[,'PctSurface'] <- as.integer(ENV.mini.2[,'WaterColumnPosition']) - 1\n",
    "ENV.by.cclust =  list()\n",
    "ENV.by.cclust.sd =  list()\n",
    "for (lev in levels(ENV.mini.ancom$Habitat.Clusters)){\n",
    "    samps_i = rownames(ENV.mini.ancom)[which(ENV.mini.ancom$Habitat.Clusters == lev)]\n",
    "    aggd_abunds_i = colMeans(ENV.mini.manova[samps_i,], na.rm=T)\n",
    "    ENV.by.cclust[[lev]] = aggd_abunds_i\n",
    "    ENV.by.cclust.sd[[lev]] = apply(ENV.mini.manova[samps_i,], 2, function(x) {sd(x, na.rm=T)})\n",
    "}\n",
    "\n",
    "env_by_cclust = data.frame(ENV.by.cclust)\n",
    "env_by_cclust[,'Variables'] <- factor(rownames(env_by_cclust))\n",
    "env_by_cclust = cbind.data.frame(melt(env_by_cclust, id.vars='Variables', value.name='Mean'), \n",
    "                                 data.frame('SD'=melt(ENV.by.cclust.sd, id.vars='Variables', value.name='SD')[,'SD']), \n",
    "                                 data.frame('Source.Data'=rep('Environment', \n",
    "                                                               nrow(env_by_cclust)*(ncol(env_by_cclust)-1))))\n",
    "env_by_cclust$Cluster = factor(as.integer(env_by_cclust$variable))\n",
    "\n",
    "env_by_clust = rbind.data.frame(env_by_cclust, env_by_mclust)\n",
    "\n",
    "env_by_clust[which(env_by_clust$Variables == 'PctSurface'), 'SD'] <- NA\n",
    "levels(env_by_clust$Variables) <- list('Season'=\"Season\", 'DayLength'=\"DayLength\", 'DO'='DO',\n",
    "                                       '%Surface'=\"PctSurface\", 'Salinity'='Salinity', \n",
    "                                       'Phosphate'='PO4F', 'Water Temp'='WTEMP', 'TN'='Total Nitrogen')\n",
    "\n",
    "options(repr.plot.width=6, repr.plot.height=4)\n",
    "p <-ggplot(env_by_clust, aes(x=Cluster, y=Mean, fill=Source.Data)) + \n",
    "    geom_bar(stat=\"identity\", position=position_dodge()) + theme_minimal() +\n",
    "    geom_errorbar(aes(ymin=Mean-SD, ymax=Mean+SD), width=.2,\n",
    "                   position=position_dodge(.9)) #+\n",
    "     #theme(aspect.ratio = 1, strip.background = element_blank(), strip.placement = \"outside\")\n",
    "    #theme(strip.text.y.right = element_text(angle = 0))\n",
    "     #+ coord_flip()# + \n",
    "    #scale_y_continuous(labels = function(x) {format(x, scientific = TRUE)}) + \n",
    "    #theme(axis.text.x = element_text(angle = 90, vjust = 0.5, hjust=1))\n",
    "                       \n",
    "p <- p + facet_wrap(Variables ~ ., scales='free', strip.position='top', nrow=2)\n",
    "p + theme(legend.position = \"top\")\n"
   ]
  },
  {
   "cell_type": "code",
   "execution_count": null,
   "metadata": {},
   "outputs": [],
   "source": [
    "options(repr.plot.width=8, repr.plot.height=4)\n",
    "subagg_abunds = rbind.data.frame(taxa_abund, fxn_abund, taxa_abund2)\n",
    "subagg_pa = (subagg_abunds > 0) * 1\n",
    "site_occupancy = (rowSums(subagg_pa) / max(rowSums(subagg_pa)))*100\n",
    "par(mfrow=c(1,2))\n",
    "hist(site_occupancy, breaks=seq(0, 100, 2), main='',\n",
    "     ylab='# Orders, Families, or Functions', xlab='Percent of Samples Occupied')\n",
    "abline(v=(222/236)*100, col='red')\n",
    "\n",
    "coreMicro = names(site_occupancy)[which(site_occupancy > ((222/236)*100))]\n",
    "coreFxn = coreMicro[which(coreMicro %in% rownames(fxn_abund))]\n",
    "fxnStd = apply(t(fxn_abund[coreFxn,])/1e+6, 2, function(x) {sd(x)/mean(x)})\n",
    "fxnInvariant = names(fxnStd)[which(fxnStd < 0.85)]\n",
    "length(fxnInvariant)\n",
    "\n",
    "subagg_abunds2 = rbind.data.frame(taxa_abund, taxa_abund2)\n",
    "coreTax = coreMicro[which(coreMicro %in% rownames(subagg_abunds2))]\n",
    "fxnTax = apply(t(subagg_abunds2[coreTax,])/1e+6, 2, function(x) {sd(x)/mean(x)})\n",
    "taxInvariant = names(fxnTax)[which(fxnTax < 0.85)]\n",
    "length(taxInvariant)\n",
    "\n",
    "hist(c(fxnStd, fxnTax), breaks=50, main='',\n",
    "     ylab='# Orders, Families, or Functions', xlab='Coeff. of Variation in Abundances')\n",
    "abline(v=0.85, col='red')\n",
    "\n",
    "coreMicro = union(taxInvariant, fxnInvariant)"
   ]
  },
  {
   "cell_type": "code",
   "execution_count": null,
   "metadata": {
    "scrolled": false
   },
   "outputs": [],
   "source": [
    "core_abunds = data.frame(matrix(NA, nrow=length(coreMicro), \n",
    "                                ncol= length(levels(ENV.mini.ancom[,'Microbial.Clusters'])),\n",
    "                                dimnames=list(coreMicro, levels(ENV.mini.ancom[,'Microbial.Clusters']))))\n",
    "\n",
    "for (lev in levels(ENV.mini.ancom[,'Microbial.Clusters'])){\n",
    "    samps_i = ENV.mini.ancom[which(ENV.mini.ancom[,'Microbial.Clusters'] == lev), 'Sample.ID']\n",
    "    aggd_abunds_i = rowMeans(subagg_abunds[rownames(core_abunds), samps_i]) \n",
    "    aggd_abunds_i = aggd_abunds_i/ rowMeans(subagg_abunds[rownames(core_abunds),])\n",
    "    newName = as.character(lev)\n",
    "    core_abunds[, lev] = aggd_abunds_i[rownames(core_abunds)]\n",
    "}\n",
    "\n",
    "core_abunds2 = cbind(core_abunds, str_split_fixed(rownames(core_abunds), fixed('.'), n=2))\n",
    "colnames(core_abunds2) <- c(colnames(core_abunds), 'Name1', 'Name2')\n",
    "core_abunds = core_abunds[which(!(core_abunds2$Name2 %in% unique(core_abunds2$Name1))),]\n",
    "core_abunds = core_abunds[which(!(rownames(core_abunds) %in% eff_effprex$taxa_id)),]\n",
    "dim(core_abunds)\n",
    "\n",
    "core_abunds[,'data.type'] <- NA\n",
    "core_abunds[which(rownames(core_abunds) %in% rownames(taxa_abund)), 'data.type'] = 'Family'\n",
    "core_abunds[which(rownames(core_abunds) %in% rownames(fxn_abund)), 'data.type'] = 'Function'\n",
    "core_abunds[which(rownames(core_abunds) %in% rownames(taxa_abund2)), 'data.type'] = 'Order'\n",
    "\n",
    "core_sum = cbind(core_abunds)\n",
    "core_sum[, 'population.id'] <- rownames(core_sum)\n",
    "core_sum <- melt(core_sum, id.vars=c('data.type','population.id'), measure.vars=c('M.1', 'M.2', 'M.3'),  \n",
    "                value.name='relative.abundance', variable.name='community.cluster')\n",
    "core_sum[,'O2.Status'] <- NA\n",
    "core_sum[which(core_sum$population.id %in% aerobic_proc),'O2.Status'] = 'Aerobic'\n",
    "core_sum[which(core_sum$population.id %in% anaerobic_proc),'O2.Status'] = 'Anaerobic'\n",
    "core_sum[,'O2.Status'] <- factor(core_sum[,'O2.Status'])\n",
    "core_sum[,'data.type'] <- factor(core_sum[,'data.type'])\n",
    "core_sum = core_sum[order(core_sum$data.type),]\n",
    "core_sum$population.id <- factor(core_sum$population.id, levels=unique(as.character(core_sum$population.id)))\n",
    "\n",
    "options(repr.plot.width=8, repr.plot.height=5)\n",
    "p <-ggplot(core_sum, aes(x=population.id, y=relative.abundance, fill=data.type)) + \n",
    "    geom_bar(stat=\"identity\") + theme_minimal() + coord_flip() + \n",
    "#    scale_y_continuous(labels = function(x) {format(x, scientific = TRUE)}) + \n",
    "    theme(axis.text.x = element_text(angle = 0, vjust = 0.9, hjust=1))\n",
    "                       \n",
    "p + facet_grid(. ~ community.cluster) + theme(legend.position = \"top\")"
   ]
  },
  {
   "cell_type": "code",
   "execution_count": null,
   "metadata": {},
   "outputs": [],
   "source": [
    "fap_df = t(read.delim('../data/faprotax_data/report_silva.2.txt', sep=\"\\t\", comment.char = '#', row.names=1))\n",
    "unrar_df = read.delim('../data/otu_tables/final_unrarefied_table.2.txt', sep=\"\\t\", row.names=1)\n",
    "taxa_df = read.delim('../data/otu_tables/taxa_table_with_OTUs.txt', sep=\"\\t\", row.names=1)"
   ]
  },
  {
   "cell_type": "code",
   "execution_count": null,
   "metadata": {},
   "outputs": [],
   "source": [
    "m1fxn = c('human_pathogens_all', 'aliphatic_non_methane_hydrocarbon_degradation', 'photoautotrophy')\n",
    "\n",
    "surf_samps = rownames(md_i[which(md_i$mclusts2 %in% c('M.1')),])\n",
    "afxn = m1fxn[2]\n",
    "spec_fap = fap_df[afxn,]\n",
    "spec_fap = spec_fap[which(spec_fap > 0)]\n",
    "\n",
    "topset = colMeans(unrar_df[surf_samps, names(spec_fap)]/ rowSums(unrar_df[surf_samps,])) \n",
    "topset = topset[which(topset > 0)]\n",
    "pop_names = cbind.data.frame(taxa_df[names(topset),], topset)\n",
    "\n",
    "pop_names[,'pop_id'] = paste(pop_names[,5], pop_names[,6], pop_names[,7], sep=\".\")\n",
    "pop_agg = aggregate(topset ~ pop_id, data=pop_names, sum)\n",
    "pop_agg = cbind.data.frame(pop_agg[order(pop_agg$pop_id), ])#, list('fxn' = rep(afxn, length(pop_agg))))\n",
    "\n",
    "pop_agg[,'topset'] = round((pop_agg[,'topset'])*100, 4)\n",
    "#sum(pop_agg[,'topset'])\n",
    "#pop_agg[,]\n",
    "\n",
    "m1taxa = c('Rubritaleaceae', 'Cyclobacteriaceae', 'Microbacteriaceae', 'Hyphomonadaceae')\n",
    "taxa_pops = list()\n",
    "for(a_tax in m1taxa){\n",
    "    orders_i = unique(taxa_df[grep(a_tax, taxa_df[,'Family']),'Order'])\n",
    "    taxa_pops[[a_tax]] = rownames(taxa_df[which(taxa_df[,'Order'] %in% orders_i),])\n",
    "}\n",
    "#taxa_pops\n",
    "for(x in m1taxa){\n",
    "    present_pops = taxa_pops[[x]][which(taxa_pops[[x]] %in% colnames(unrar_df))]\n",
    "    present_abund = colMeans(unrar_df[surf_samps, present_pops]/rowSums(unrar_df[surf_samps,]))\n",
    "    taxa_pops[[paste(x, 'sum', sep=\".\")]] = round(sum(present_abund)*100, 3)\n",
    "    taxa_pops[[x]] = sum(present_abund > 0)\n",
    "    present_abund = present_abund[which(present_abund > 0)]\n",
    "    pop_names2 = cbind.data.frame(taxa_df[names(present_abund),], present_abund)\n",
    "    pop_names2[,'pop_id'] = paste(pop_names2[,5], pop_names2[,6], pop_names2[,7], sep=\".\")\n",
    "    pop_agg2 = aggregate(present_abund ~ pop_id, data=pop_names2, sum)\n",
    "    pop_agg2 = cbind.data.frame(pop_agg2[order(pop_agg2$pop_id), ])\n",
    "    pop_agg2$present_abund = round(pop_agg2$present_abund*100, 4)\n",
    "    taxa_pops[[paste(x, 'tax', sep=\".\")]] = pop_agg2\n",
    "}\n",
    "taxa_pops\n",
    "\n"
   ]
  },
  {
   "cell_type": "code",
   "execution_count": null,
   "metadata": {},
   "outputs": [],
   "source": [
    "freshet = rownames(plot.df.mini[which(plot.df.mini$Microbial.Clusters == 'M.2'),])\n",
    "allfxns = c('nitrogen_fixation', 'aromatic_hydrocarbon_degradation', 'nitrite_respiration')\n",
    "afxn = allfxns[2]\n",
    "spec_fap = fap_df[afxn,]\n",
    "spec_fap = spec_fap[which(spec_fap > 0)]\n",
    "\n",
    "topset = colMeans(unrar_df[freshet, names(spec_fap)] / rowSums(unrar_df[freshet,])) \n",
    "topset = topset[which(topset > 0)]\n",
    "pop_names = cbind.data.frame(taxa_df[names(topset),], topset)\n",
    "\n",
    "pop_names[,'pop_id'] = paste(pop_names[,4], pop_names[,5], pop_names[,6], pop_names[,7], sep=\".\")\n",
    "pop_agg = aggregate(topset ~ pop_id, data=pop_names, sum)\n",
    "pop_agg = cbind.data.frame(pop_agg[order(pop_agg$pop_id), ])#, list('fxn' = rep(afxn, length(pop_agg))))\n",
    "\n",
    "pop_agg[,'topset'] = round((pop_agg[,'topset'])*100, 4)\n",
    "#sum(pop_agg[,'topset'])\n",
    "#pop_agg\n",
    "\n",
    "\n",
    "m1taxa = c('Arenicellaceae', 'Clade_IV', 'Kangiellaceae', 'Rubritaleaceae')\n",
    "taxa_pops = list()\n",
    "for(a_tax in m1taxa){taxa_pops[[a_tax]] = rownames(taxa_df[grep(a_tax, taxa_df[,'Family']),])}\n",
    "#taxa_pops\n",
    "for(x in m1taxa){\n",
    "    present_pops = taxa_pops[[x]][which(taxa_pops[[x]] %in% colnames(unrar_df))]\n",
    "    present_abund = colMeans(unrar_df[freshet, present_pops]/rowSums(unrar_df[freshet,]))\n",
    "    taxa_pops[[paste(x, 'sum', sep=\".\")]] = round(sum(present_abund)*100, 3)\n",
    "    taxa_pops[[x]] = sum(present_abund > 0)\n",
    "    present_abund = present_abund[which(present_abund > 0)]\n",
    "    pop_names2 = cbind.data.frame(taxa_df[names(present_abund),], present_abund)\n",
    "    pop_names2[,'pop_id'] = paste(pop_names2[,5], pop_names2[,6], pop_names2[,7], sep=\".\")\n",
    "    pop_agg2 = aggregate(present_abund ~ pop_id, data=pop_names2, sum)\n",
    "    pop_agg2 = cbind.data.frame(pop_agg2[order(pop_agg2$pop_id), ])\n",
    "    pop_agg2$present_abund = round(pop_agg2$present_abund*100, 4)\n",
    "    taxa_pops[[paste(x, 'tax', sep=\".\")]] = pop_agg2\n",
    "}\n",
    "#taxa_pops\n",
    "\n"
   ]
  },
  {
   "cell_type": "code",
   "execution_count": null,
   "metadata": {
    "scrolled": false
   },
   "outputs": [],
   "source": [
    "hypoxic = rownames(md_i[which(md_i$mclusts2 == 'M.3'),])\n",
    "allfxns = c('dark_oxidation_of_sulfur_compounds', 'nitrate_respiration', \n",
    "            'sulfate_respiration', 'nitrate_reduction')\n",
    "afxn = allfxns[4]\n",
    "spec_fap = fap_df[afxn,]\n",
    "spec_fap = spec_fap[which(spec_fap > 0)]\n",
    "\n",
    "topset = colMeans(unrar_df[hypoxic, names(spec_fap)] / rowSums(unrar_df[hypoxic,])) \n",
    "topset = topset[which(topset > 0)]\n",
    "pop_names = cbind.data.frame(taxa_df[names(topset),], topset)\n",
    "\n",
    "pop_names[,'pop_id'] = paste(pop_names[,4], pop_names[,5], pop_names[,6], pop_names[,7], sep=\".\")\n",
    "pop_agg = aggregate(topset ~ pop_id, data=pop_names, sum)\n",
    "pop_agg = cbind.data.frame(pop_agg[order(pop_agg$pop_id), ])#, list('fxn' = rep(afxn, length(pop_agg))))\n",
    "\n",
    "pop_agg[,'topset'] = round((pop_agg[,'topset'])*100, 4)\n",
    "sum(pop_agg[,'topset'])\n",
    "pop_agg\n",
    "cow\n",
    "\n",
    "m1taxa = c('WCHB1.41', 'Chromatiales', 'Chlamydiales', 'Thioglobaceae', 'Ectothiorhodospiraceae', 'Gimesiaceae')\n",
    "taxa_pops = list()\n",
    "for(a_tax in m1taxa){\n",
    "    fam_rows = grep(a_tax, taxa_df[,'Family'])\n",
    "    if (length(fam_rows) == 0)\n",
    "        fam_rows = grep(a_tax, taxa_df[,'Order'])\n",
    "    taxa_pops[[a_tax]] = rownames(taxa_df[fam_rows,])\n",
    "}\n",
    "taxa_pops\n",
    "for(x in m1taxa){\n",
    "    present_pops = taxa_pops[[x]][which(taxa_pops[[x]] %in% colnames(unrar_df))]\n",
    "    present_abund = colMeans(unrar_df[hypoxic, present_pops]/rowSums(unrar_df[hypoxic,]))\n",
    "    taxa_pops[[paste(x, 'sum', sep=\".\")]] = round(sum(present_abund)*100, 3)\n",
    "    taxa_pops[[x]] = sum(present_abund > 0)\n",
    "    present_abund = present_abund[which(present_abund > 0)]\n",
    "    pop_names2 = cbind.data.frame(taxa_df[names(present_abund),], present_abund)\n",
    "    pop_names2[,'pop_id'] = paste(pop_names2[,5], pop_names2[,6], pop_names2[,7], sep=\".\")\n",
    "    pop_agg2 = aggregate(present_abund ~ pop_id, data=pop_names2, sum)\n",
    "    pop_agg2 = cbind.data.frame(pop_agg2[order(pop_agg2$pop_id), ])\n",
    "    pop_agg2$present_abund = round(pop_agg2$present_abund*100, 4)\n",
    "    taxa_pops[[paste(x, 'tax', sep=\".\")]] = pop_agg2\n",
    "}\n",
    "taxa_pops\n",
    "\n"
   ]
  },
  {
   "cell_type": "code",
   "execution_count": null,
   "metadata": {},
   "outputs": [],
   "source": [
    "ENV.mini.manova = cbind(env_data_orig[,c('WaterColumnPosition', 'TN', 'CHLA', 'DO', 'WTEMP', 'SALINITY')])\n",
    "\n",
    "ENV.mini.manova[,'PctSurface'] <- as.integer(factor(ENV.mini.manova[,'WaterColumnPosition'])) - 1\n",
    "head(ENV.mini.manova)"
   ]
  },
  {
   "cell_type": "code",
   "execution_count": null,
   "metadata": {},
   "outputs": [],
   "source": [
    "library(MASS)\n",
    "library(sfsmisc)\n",
    "\n",
    "rr.do <- rlm(DO*-1 ~ Latitude + WTEMP + WaterColumnPosition, data = comp_orig, maxit=200)\n",
    "\n",
    "summary(rr.do)\n",
    "f.robftest(rr.do, var = \"Latitude\")\n",
    "f.robftest(rr.do, var = \"WTEMP\")\n",
    "f.robftest(rr.do, var = \"WaterColumnPositionupper\")\n",
    "\n",
    "options(repr.plot.width=6, repr.plot.height=6)\n",
    "par(mfrow = c(2,2))\n",
    "\n",
    "plot(comp_orig$Latitude, comp_orig$DO, xlab='Latitude', ylab='DO')\n",
    "plot(comp_orig$Latitude, rr.do$residuals, xlab='Latitude', ylab='DO residuals')\n",
    "plot(comp_orig$WTEMP, comp_orig$DO, xlab='WTEMP', ylab='DO')\n",
    "plot(comp_orig$WTEMP, rr.do$residuals, xlab='WTEMP', ylab='DO residuals')\n"
   ]
  },
  {
   "cell_type": "code",
   "execution_count": null,
   "metadata": {},
   "outputs": [],
   "source": [
    "rr.no2 <- rlm(NO2F ~ Latitude + FallPeak + WaterColumnPosition, data = comp_orig, maxit=200)\n",
    "\n",
    "f.robftest(rr.no2, var = \"Latitude\")\n",
    "f.robftest(rr.no2, var = \"FallPeak\")\n",
    "f.robftest(rr.no2, var = \"WaterColumnPositionupper\")\n",
    "\n",
    "options(repr.plot.width=6, repr.plot.height=6)\n",
    "par(mfrow = c(2,2))\n",
    "plot(comp_orig$Latitude, comp_orig$NO2F, xlab='Latitude', ylab='NO2F')\n",
    "plot(comp_orig$Latitude, rr.no2$residuals, xlab='Latitude', ylab='NO2F residuals')\n",
    "plot(comp_orig$FallPeak, comp_orig$NO2F, xlab='Seasonality', ylab='NO2F')\n",
    "plot(comp_orig$FallPeak, rr.no2$residuals, xlab='Seasonality', ylab='NO2F')"
   ]
  },
  {
   "cell_type": "code",
   "execution_count": null,
   "metadata": {},
   "outputs": [],
   "source": [
    "rr.po4 <- rlm(PO4F ~ Latitude*FallPeak + WaterColumnPosition, data = comp_orig, maxit=200)\n",
    "summary(rr.po4)\n",
    "\n",
    "f.robftest(rr.po4, var = \"Latitude\")\n",
    "f.robftest(rr.po4, var = \"FallPeak\")\n",
    "f.robftest(rr.po4, var = \"Latitude:FallPeak\")\n",
    "f.robftest(rr.po4, var = \"WaterColumnPositionupper\")\n",
    "\n",
    "options(repr.plot.width=6, repr.plot.height=6)\n",
    "par(mfrow = c(2,2))\n",
    "plot(comp_orig$Latitude, comp_orig$PO4F, xlab='Latitude', ylab='PO4F')\n",
    "plot(comp_orig$Latitude, rr.po4$residuals, xlab='Latitude', ylab='PO4F residuals')\n",
    "plot(comp_orig$FallPeak, comp_orig$PO4F, xlab='Seasonality', ylab='PO4F')\n",
    "plot(comp_orig$FallPeak, rr.po4$residuals, xlab='Seasonality', ylab='PO4F residuals')"
   ]
  },
  {
   "cell_type": "code",
   "execution_count": null,
   "metadata": {},
   "outputs": [],
   "source": [
    "resid_df = cbind(rr.no2$residuals, rr.po4$residuals, rr.do$residuals)\n",
    "dim(resid_df)\n",
    "dim(comp_orig)\n",
    "rownames(resid_df) <- rownames(comp_orig)\n",
    "colnames(resid_df) <- c('NO2F_residuals', 'PO4F_residuals',  'DO_residuals')\n",
    "resid_df = as.data.frame(resid_df)\n",
    "\n",
    "resid_file = paste(env_data_dir, 'environmental_residuals.txt', sep=\"/\")\n",
    "write.table(resid_df, file=resid_file, sep=\"\\t\")"
   ]
  },
  {
   "cell_type": "code",
   "execution_count": null,
   "metadata": {},
   "outputs": [],
   "source": []
  },
  {
   "cell_type": "code",
   "execution_count": null,
   "metadata": {},
   "outputs": [],
   "source": []
  },
  {
   "cell_type": "code",
   "execution_count": null,
   "metadata": {},
   "outputs": [],
   "source": []
  },
  {
   "cell_type": "code",
   "execution_count": null,
   "metadata": {},
   "outputs": [],
   "source": [
    "\n",
    "\n",
    "\n",
    "\n",
    "\n"
   ]
  },
  {
   "cell_type": "code",
   "execution_count": null,
   "metadata": {},
   "outputs": [],
   "source": [
    "nti_fn = \"../otu_data/dispersal_selection_data/ses_nti.RData\"\n",
    "load(nti_fn)\n",
    "bnti_df = mntd_scores$comdistnt.obs.z[incl_samps, incl_samps]\n",
    "bnti_dist = as.dist(bnti_df)"
   ]
  },
  {
   "cell_type": "code",
   "execution_count": null,
   "metadata": {},
   "outputs": [],
   "source": [
    "ps.rarefied = rarefy_even_depth(ps, rngseed=1, sample.size=0.9*min(sample_sums(ps)), replace=F)"
   ]
  },
  {
   "cell_type": "code",
   "execution_count": null,
   "metadata": {},
   "outputs": [],
   "source": [
    "BC.nmds.3D = metaMDS(OTU.clean2, distance=\"bray\", k=3, trymax=1000)"
   ]
  },
  {
   "cell_type": "code",
   "execution_count": null,
   "metadata": {},
   "outputs": [],
   "source": [
    "OTU.UF = otu_table(as.matrix(OTU.clean), taxa_are_rows=FALSE)\n",
    "tax.UF = tax_table(as.matrix(tax.clean))\n",
    "meta.UF = sample_data(meta)\n",
    "wUF.dist = UniFrac(physeq.tree, weighted=TRUE, normalized=TRUE)\n",
    "BC.nmds"
   ]
  },
  {
   "cell_type": "code",
   "execution_count": null,
   "metadata": {},
   "outputs": [],
   "source": [
    "BC.nmds = metaMDS(OTU.clean, distance=\"bray\", k=2, trymax=1000)\n",
    "fit.BC = envfit(BC.nmds, meta[,c(\"AgeGroup\", \"ADGKG\")])\n",
    "fit.BC.OTU = envfit(BC.nmds, OTU.clean[,1:10])"
   ]
  },
  {
   "cell_type": "code",
   "execution_count": null,
   "metadata": {},
   "outputs": [],
   "source": [
    "adonis(BC.dist ~ AgeGroup*ADGKG, data = meta, permutations = 1000)\n",
    "adonis(uwUF.dist ~ AgeGroup*ADGKG, data=meta, permutations = 1000)\n",
    "permutest(disp.age, pairwise=TRUE, permutations=1000)\n",
    "simper(OTU.clean, meta$AgeGroup, permutations=100)\n",
    "kruskal.test(OTU.clean$Otu00001 ~ meta$AgeGroup)\n",
    "#Note: These P-values have not been corrected from false discovery rate (fdr) yet.\n",
    "\n"
   ]
  },
  {
   "cell_type": "code",
   "execution_count": null,
   "metadata": {},
   "outputs": [],
   "source": [
    "\n",
    "KW.results = data.frame(read.csv(\"Age_krusk_simper.csv\"))\n",
    "#Remove non-significant\n",
    "KW.results.signif = KW.results[KW.results$fdr_krusk_p.val < 0.05,]\n",
    "#Order by OTU#\n",
    "KW.results.signif = KW.results.signif[with(KW.results.signif, order(OTU)),]\n",
    "head(KW.results.signif)"
   ]
  }
 ],
 "metadata": {
  "kernelspec": {
   "display_name": "R",
   "language": "R",
   "name": "ir"
  },
  "language_info": {
   "codemirror_mode": "r",
   "file_extension": ".r",
   "mimetype": "text/x-r-source",
   "name": "R",
   "pygments_lexer": "r",
   "version": "4.0.1"
  }
 },
 "nbformat": 4,
 "nbformat_minor": 2
}
